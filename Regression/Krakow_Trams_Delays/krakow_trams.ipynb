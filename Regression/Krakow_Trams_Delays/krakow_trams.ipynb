{
 "cells": [
  {
   "cell_type": "markdown",
   "metadata": {},
   "source": [
    "<h1 style='text-align:center'>Krakow trams delays</h1>\n",
    "<h4 style='text-align:center'>Dataset description (Polish language): https://aczepielik.github.io/post/kraktram/</h4>\n",
    "<h4 style='text-align:center'>Dataset: https://github.com/aczepielik/KRKtram/tree/master/reports</h4><br><br>"
   ]
  },
  {
   "cell_type": "code",
   "execution_count": 0,
   "metadata": {
    "colab": {},
    "colab_type": "code",
    "id": "WlO5yvGrbZ1y"
   },
   "outputs": [],
   "source": [
    "import pandas as pd\n",
    "import numpy as np\n",
    "import matplotlib.pyplot as plt\n",
    "import seaborn as sns\n",
    "%matplotlib inline\n",
    "from sklearn.tree import DecisionTreeRegressor\n",
    "from sklearn.ensemble import RandomForestRegressor\n",
    "from sklearn.svm import LinearSVR \n",
    "from sklearn.model_selection import cross_val_score"
   ]
  },
  {
   "cell_type": "code",
   "execution_count": 0,
   "metadata": {
    "colab": {},
    "colab_type": "code",
    "id": "eF6-5ueTbZ13"
   },
   "outputs": [],
   "source": [
    "df1 = pd.read_csv('https://raw.githubusercontent.com/aczepielik/KRKtram/master/reports/report_07-23.csv')\n",
    "df2 = pd.read_csv('https://raw.githubusercontent.com/aczepielik/KRKtram/master/reports/report_07-24.csv')\n",
    "df3 = pd.read_csv('https://raw.githubusercontent.com/aczepielik/KRKtram/master/reports/report_07-25.csv')\n",
    "df4 = pd.read_csv('https://raw.githubusercontent.com/aczepielik/KRKtram/master/reports/report_07-26.csv')\n",
    "df5 = pd.read_csv('https://raw.githubusercontent.com/aczepielik/KRKtram/master/reports/report_07-27.csv')\n",
    "df6 = pd.read_csv('https://raw.githubusercontent.com/aczepielik/KRKtram/master/reports/report_07-30.csv')\n",
    "df7 = pd.read_csv('https://raw.githubusercontent.com/aczepielik/KRKtram/master/reports/report_07-31.csv')\n",
    "trams = pd.concat([df1, df2, df3, df4, df5, df6, df7])"
   ]
  },
  {
   "cell_type": "code",
   "execution_count": 3,
   "metadata": {
    "colab": {
     "base_uri": "https://localhost:8080/",
     "height": 195
    },
    "colab_type": "code",
    "executionInfo": {
     "elapsed": 768,
     "status": "ok",
     "timestamp": 1567586417029,
     "user": {
      "displayName": "Tomasz Kościelniak",
      "photoUrl": "",
      "userId": "17177696409305527274"
     },
     "user_tz": -120
    },
    "id": "hp4UyQ87bZ17",
    "outputId": "bd6e45e7-c13f-4d76-a726-487dbf74f493"
   },
   "outputs": [
    {
     "data": {
      "text/html": [
       "<div>\n",
       "<style scoped>\n",
       "    .dataframe tbody tr th:only-of-type {\n",
       "        vertical-align: middle;\n",
       "    }\n",
       "\n",
       "    .dataframe tbody tr th {\n",
       "        vertical-align: top;\n",
       "    }\n",
       "\n",
       "    .dataframe thead th {\n",
       "        text-align: right;\n",
       "    }\n",
       "</style>\n",
       "<table border=\"1\" class=\"dataframe\">\n",
       "  <thead>\n",
       "    <tr style=\"text-align: right;\">\n",
       "      <th></th>\n",
       "      <th>index</th>\n",
       "      <th>time_stamp</th>\n",
       "      <th>stop</th>\n",
       "      <th>stopName</th>\n",
       "      <th>number</th>\n",
       "      <th>direction</th>\n",
       "      <th>plannedTime</th>\n",
       "      <th>vehicleId</th>\n",
       "      <th>tripId</th>\n",
       "      <th>status</th>\n",
       "      <th>delay</th>\n",
       "      <th>seq_num</th>\n",
       "    </tr>\n",
       "  </thead>\n",
       "  <tbody>\n",
       "    <tr>\n",
       "      <th>0</th>\n",
       "      <td>1</td>\n",
       "      <td>2018-07-23 06:00:45</td>\n",
       "      <td>378</td>\n",
       "      <td>Os.Piastów</td>\n",
       "      <td>21</td>\n",
       "      <td>Kopiec Wandy</td>\n",
       "      <td>2018-07-23 05:59:00</td>\n",
       "      <td>NaN</td>\n",
       "      <td>6351558574044883205</td>\n",
       "      <td>PLANNED</td>\n",
       "      <td>1</td>\n",
       "      <td>1.0</td>\n",
       "    </tr>\n",
       "    <tr>\n",
       "      <th>1</th>\n",
       "      <td>1</td>\n",
       "      <td>2018-07-23 06:00:47</td>\n",
       "      <td>612</td>\n",
       "      <td>Borsucza</td>\n",
       "      <td>22</td>\n",
       "      <td>Walcownia</td>\n",
       "      <td>2018-07-23 06:00:00</td>\n",
       "      <td>6.352185e+18</td>\n",
       "      <td>6351558574044899587</td>\n",
       "      <td>STOPPING</td>\n",
       "      <td>0</td>\n",
       "      <td>7.0</td>\n",
       "    </tr>\n",
       "    <tr>\n",
       "      <th>2</th>\n",
       "      <td>1</td>\n",
       "      <td>2018-07-23 06:00:48</td>\n",
       "      <td>572</td>\n",
       "      <td>Smolki</td>\n",
       "      <td>11</td>\n",
       "      <td>Czerwone Maki P+R</td>\n",
       "      <td>2018-07-23 06:00:00</td>\n",
       "      <td>6.352185e+18</td>\n",
       "      <td>6351558574044670211</td>\n",
       "      <td>STOPPING</td>\n",
       "      <td>0</td>\n",
       "      <td>10.0</td>\n",
       "    </tr>\n",
       "    <tr>\n",
       "      <th>3</th>\n",
       "      <td>1</td>\n",
       "      <td>2018-07-23 06:00:49</td>\n",
       "      <td>319</td>\n",
       "      <td>Jubilat</td>\n",
       "      <td>1</td>\n",
       "      <td>Wzgórza K.</td>\n",
       "      <td>2018-07-23 05:59:00</td>\n",
       "      <td>NaN</td>\n",
       "      <td>6351558574044363010</td>\n",
       "      <td>PLANNED</td>\n",
       "      <td>1</td>\n",
       "      <td>3.0</td>\n",
       "    </tr>\n",
       "    <tr>\n",
       "      <th>4</th>\n",
       "      <td>1</td>\n",
       "      <td>2018-07-23 06:00:49</td>\n",
       "      <td>322</td>\n",
       "      <td>Filharmonia</td>\n",
       "      <td>8</td>\n",
       "      <td>Bronowice Małe</td>\n",
       "      <td>2018-07-23 06:01:00</td>\n",
       "      <td>6.352185e+18</td>\n",
       "      <td>6351558574044592386</td>\n",
       "      <td>STOPPING</td>\n",
       "      <td>0</td>\n",
       "      <td>15.0</td>\n",
       "    </tr>\n",
       "  </tbody>\n",
       "</table>\n",
       "</div>"
      ],
      "text/plain": [
       "   index           time_stamp  stop  ...    status  delay seq_num\n",
       "0      1  2018-07-23 06:00:45   378  ...   PLANNED      1     1.0\n",
       "1      1  2018-07-23 06:00:47   612  ...  STOPPING      0     7.0\n",
       "2      1  2018-07-23 06:00:48   572  ...  STOPPING      0    10.0\n",
       "3      1  2018-07-23 06:00:49   319  ...   PLANNED      1     3.0\n",
       "4      1  2018-07-23 06:00:49   322  ...  STOPPING      0    15.0\n",
       "\n",
       "[5 rows x 12 columns]"
      ]
     },
     "execution_count": 3,
     "metadata": {
      "tags": []
     },
     "output_type": "execute_result"
    }
   ],
   "source": [
    "trams.head()"
   ]
  },
  {
   "cell_type": "code",
   "execution_count": 4,
   "metadata": {
    "colab": {
     "base_uri": "https://localhost:8080/",
     "height": 353
    },
    "colab_type": "code",
    "executionInfo": {
     "elapsed": 1038,
     "status": "ok",
     "timestamp": 1567586420734,
     "user": {
      "displayName": "Tomasz Kościelniak",
      "photoUrl": "",
      "userId": "17177696409305527274"
     },
     "user_tz": -120
    },
    "id": "S4B7hGzYbZ2B",
    "outputId": "5042c0a2-83fa-4a6d-82da-6444467e633b"
   },
   "outputs": [
    {
     "data": {
      "text/plain": [
       "0     0.426947\n",
       "1     0.351028\n",
       "2     0.116196\n",
       "3     0.055438\n",
       "4     0.026082\n",
       "5     0.011961\n",
       "6     0.005463\n",
       "7     0.002969\n",
       "8     0.001553\n",
       "9     0.000989\n",
       "10    0.000663\n",
       "11    0.000315\n",
       "12    0.000140\n",
       "13    0.000133\n",
       "14    0.000089\n",
       "15    0.000022\n",
       "16    0.000006\n",
       "19    0.000004\n",
       "18    0.000002\n",
       "Name: delay, dtype: float64"
      ]
     },
     "execution_count": 4,
     "metadata": {
      "tags": []
     },
     "output_type": "execute_result"
    }
   ],
   "source": [
    "# percentage distribution of delays \n",
    "# as you can see over 89% of all delays are in the range of 0-2 min\n",
    "trams['delay'].value_counts(normalize=True)"
   ]
  },
  {
   "cell_type": "code",
   "execution_count": 5,
   "metadata": {
    "colab": {
     "base_uri": "https://localhost:8080/",
     "height": 486
    },
    "colab_type": "code",
    "executionInfo": {
     "elapsed": 1065,
     "status": "ok",
     "timestamp": 1567586428645,
     "user": {
      "displayName": "Tomasz Kościelniak",
      "photoUrl": "",
      "userId": "17177696409305527274"
     },
     "user_tz": -120
    },
    "id": "ZnNEBdGrbZ2E",
    "outputId": "f813cf0a-a825-48c9-c7f7-adf5b2fd2b59"
   },
   "outputs": [
    {
     "data": {
      "image/png": "[encoded data removed]",
      "text/plain": [
       "<Figure size 864x576 with 1 Axes>"
      ]
     },
     "metadata": {
      "tags": []
     },
     "output_type": "display_data"
    }
   ],
   "source": [
    "# delay distribution on the histogram\n",
    "trams['delay'].hist(bins=20, figsize=(12,8));"
   ]
  },
  {
   "cell_type": "markdown",
   "metadata": {
    "colab_type": "text",
    "id": "O9wnJgQxbZ2H"
   },
   "source": [
    "<br><h2>FEATURE ENGINEERING</h2>"
   ]
  },
  {
   "cell_type": "code",
   "execution_count": 0,
   "metadata": {
    "colab": {},
    "colab_type": "code",
    "id": "XloXceKdbZ2I"
   },
   "outputs": [],
   "source": [
    "# transforming labels (delays) from minutes to seconds to make them more convenient for analysis\n",
    "trams['delay_sec'] = trams['delay'].map(lambda x: x*60)\n",
    "\n",
    "# factorization of text values into numerical values from the 'direction' column\n",
    "trams['direction_num'] = trams['direction'].factorize()[0] \n",
    "\n",
    "# filling the missing values in the 'vehicleID' column with values that did not appear before (-1) \n",
    "# so as not to affect other records that have the given value\n",
    "trams['vehicleId'].fillna(-1, inplace=True)\n",
    "# same with column 'seq_num'\n",
    "trams['seq_num'].fillna(-1, inplace=True)"
   ]
  },
  {
   "cell_type": "code",
   "execution_count": 0,
   "metadata": {
    "colab": {},
    "colab_type": "code",
    "id": "NznplIShbZ2M"
   },
   "outputs": [],
   "source": [
    "# FEATURE SCALING\n",
    "# Decision Tree and Random Forest do not require feature scaling, but other algorithms like SVM do not do well with non-standardized data\n",
    "from sklearn.preprocessing import StandardScaler\n",
    "scaler = StandardScaler()"
   ]
  },
  {
   "cell_type": "code",
   "execution_count": 8,
   "metadata": {
    "colab": {
     "base_uri": "https://localhost:8080/",
     "height": 118
    },
    "colab_type": "code",
    "executionInfo": {
     "elapsed": 10310,
     "status": "ok",
     "timestamp": 1567586448777,
     "user": {
      "displayName": "Tomasz Kościelniak",
      "photoUrl": "",
      "userId": "17177696409305527274"
     },
     "user_tz": -120
    },
    "id": "7KqIMdJvbZ2P",
    "outputId": "ee6394bb-6ce2-4a69-a112-318879bc6a2a"
   },
   "outputs": [
    {
     "name": "stdout",
     "output_type": "stream",
     "text": [
      "Decision Tree\n",
      "MAE:  -47.010324336141444 STD: 0.4768498864422201\n",
      "Random Forest\n",
      "MAE:  -46.691584323943836 STD: 0.5297267271838026\n",
      "SVM Regression\n",
      "MAE:  -51.37996441997783 STD: 0.13799648530255046\n"
     ]
    }
   ],
   "source": [
    "# split data into features(X) and labels(y)\n",
    "X = trams[['stop','number','direction_num','vehicleId','seq_num']]\n",
    "y = trams['delay_sec'].values\n",
    "\n",
    "model_tree = DecisionTreeRegressor(max_depth=10)\n",
    "model_forest = RandomForestRegressor(max_depth=10, n_estimators=10)\n",
    "model_svm = LinearSVR(C=1, epsilon=1)\n",
    "\n",
    "# feature scaling\n",
    "scaler.fit(X)\n",
    "X_scaled = scaler.transform(X)\n",
    "\n",
    "print('Decision Tree')\n",
    "scores_tree = cross_val_score(model_tree, X_scaled, y, cv=3, scoring='neg_mean_absolute_error')\n",
    "print('MAE: ', np.mean(scores_tree), 'STD:', np.std(scores_tree))\n",
    "\n",
    "print('Random Forest')\n",
    "scores_forest = cross_val_score(model_forest, X_scaled, y, cv=3, scoring='neg_mean_absolute_error')\n",
    "print('MAE: ', np.mean(scores_forest), 'STD:', np.std(scores_forest))\n",
    "\n",
    "print('SVM Regression')\n",
    "scores_svm = cross_val_score(model_svm, X_scaled, y, cv=3, scoring='neg_mean_absolute_error')\n",
    "print('MAE: ', np.mean(scores_svm), 'STD:', np.std(scores_svm))"
   ]
  },
  {
   "cell_type": "markdown",
   "metadata": {
    "colab_type": "text",
    "id": "7fXt1RgZbZ2R"
   },
   "source": [
    "<b>Adding new features:</b>"
   ]
  },
  {
   "cell_type": "code",
   "execution_count": 0,
   "metadata": {
    "colab": {},
    "colab_type": "code",
    "id": "ZudJDvNXbZ2S",
    "outputId": "48475e56-e707-44a8-9d1e-f0cd65bfc72e"
   },
   "outputs": [
    {
     "name": "stdout",
     "output_type": "stream",
     "text": [
      "Decision Tree\n",
      "MAE:  -47.058051291615534 STD: 0.7007041110911034\n",
      "Random Forest\n",
      "MAE:  -46.66650997316095 STD: 0.64653830358904\n",
      "SVM Regression\n",
      "MAE:  -51.34708832416826 STD: 0.11709988929335784\n"
     ]
    }
   ],
   "source": [
    "# creating a new feature by connecting the tram number (col 'number') and the direction in which the tram is going (col 'direction')\n",
    "def id_tram_direction(x):\n",
    "    return '{} {}'.format(x['number'], x['direction']) \n",
    "trams['tram_direction_id'] = trams.apply(id_tram_direction, axis=1).factorize()[0]\n",
    "\n",
    "# the same for the stop number (col 'stop') and the direction in which the tram is going (col 'direction')\n",
    "def id_stop_direction(x):\n",
    "    return '{} {}'.format(x['stop'], x['direction']) \n",
    "trams['stop_direction_id'] = trams.apply(id_tram_direction, axis=1).factorize()[0]\n",
    "\n",
    "X = trams[['stop','number','direction_num','vehicleId','seq_num','tram_direction_id','stop_direction_id']].values\n",
    "\n",
    "# feature scaling\n",
    "scaler.fit(X)\n",
    "X_scaled = scaler.transform(X)\n",
    "\n",
    "print('Decision Tree')\n",
    "scores_tree = cross_val_score(model_tree, X_scaled, y, cv=3, scoring='neg_mean_absolute_error')\n",
    "print('MAE: ', np.mean(scores_tree), 'STD:', np.std(scores_tree))\n",
    "\n",
    "print('Random Forest')\n",
    "scores_forest = cross_val_score(model_forest, X_scaled, y, cv=3, scoring='neg_mean_absolute_error')\n",
    "print('MAE: ', np.mean(scores_forest), 'STD:', np.std(scores_forest))\n",
    "\n",
    "print('SVM Regression')\n",
    "scores_svm = cross_val_score(model_svm, X_scaled, y, cv=3, scoring='neg_mean_absolute_error')\n",
    "print('MAE: ', np.mean(scores_svm), 'STD:', np.std(scores_svm))"
   ]
  },
  {
   "cell_type": "markdown",
   "metadata": {
    "colab_type": "text",
    "id": "M6e3QPnobZ2W"
   },
   "source": [
    "<b>As you can see, the new features caused a slight improvement in MAE for RandomForest and SVM Regression. However, the standard deviation for Decision Tree and Random Forest has increased significantly, so I decided that the new features don't give any noticeable benefits, so I removed it.</b>"
   ]
  },
  {
   "cell_type": "code",
   "execution_count": 0,
   "metadata": {
    "colab": {},
    "colab_type": "code",
    "id": "Xq_ihMVtbZ2X"
   },
   "outputs": [],
   "source": [
    "trams.drop(['tram_direction_id','stop_direction_id'], axis=1, inplace=True)"
   ]
  },
  {
   "cell_type": "markdown",
   "metadata": {
    "colab_type": "text",
    "id": "nv_f0joqbZ2a"
   },
   "source": [
    "<b>Now I try to experiment a little with the date and time column (plannedTime) to find the correlation between time of day and trams delay. It can be expected that during peak hours tram delays will be greater due to increased traffic in the city. This feature should improve the efficiency of the model.</b>"
   ]
  },
  {
   "cell_type": "code",
   "execution_count": 0,
   "metadata": {
    "colab": {},
    "colab_type": "code",
    "id": "cgqZ5gCtbZ2b"
   },
   "outputs": [],
   "source": [
    "# mapping string to date format\n",
    "trams['plannedTime'] = pd.to_datetime(trams['plannedTime'])"
   ]
  },
  {
   "cell_type": "code",
   "execution_count": 0,
   "metadata": {
    "colab": {},
    "colab_type": "code",
    "id": "kR0oxBgTbZ2d"
   },
   "outputs": [],
   "source": [
    "# extracting the time (hour) from the date\n",
    "trams['tram_hour'] = trams['plannedTime'].dt.hour"
   ]
  },
  {
   "cell_type": "code",
   "execution_count": 11,
   "metadata": {
    "colab": {
     "base_uri": "https://localhost:8080/",
     "height": 118
    },
    "colab_type": "code",
    "executionInfo": {
     "elapsed": 13733,
     "status": "ok",
     "timestamp": 1567586490606,
     "user": {
      "displayName": "Tomasz Kościelniak",
      "photoUrl": "",
      "userId": "17177696409305527274"
     },
     "user_tz": -120
    },
    "id": "OWQxnj5wbZ2g",
    "outputId": "3fc27a0d-3ec9-414a-8c8f-0414b933056f"
   },
   "outputs": [
    {
     "name": "stdout",
     "output_type": "stream",
     "text": [
      "Decision Tree\n",
      "MAE:  -46.846746650109964 STD: 0.5140000220730191\n",
      "Random Forest\n",
      "MAE:  -46.289616467993774 STD: 0.5916825725738786\n",
      "SVM Regression\n",
      "MAE:  -51.36283913915248 STD: 0.1303087717459281\n"
     ]
    }
   ],
   "source": [
    "X = trams[['stop','number','direction_num','vehicleId','seq_num','tram_hour']].values\n",
    "\n",
    "# feature scaling\n",
    "scaler.fit(X)\n",
    "X_scaled = scaler.transform(X)\n",
    "\n",
    "print('Decision Tree')\n",
    "scores_tree = cross_val_score(model_tree, X_scaled, y, cv=3, scoring='neg_mean_absolute_error')\n",
    "print('MAE: ', np.mean(scores_tree), 'STD:', np.std(scores_tree))\n",
    "\n",
    "print('Random Forest')\n",
    "scores_forest = cross_val_score(model_forest, X_scaled, y, cv=3, scoring='neg_mean_absolute_error')\n",
    "print('MAE: ', np.mean(scores_forest), 'STD:', np.std(scores_forest))\n",
    "\n",
    "print('SVM Regression')\n",
    "scores_svm = cross_val_score(model_svm, X_scaled, y, cv=3, scoring='neg_mean_absolute_error')\n",
    "print('MAE: ', np.mean(scores_svm), 'STD:', np.std(scores_svm))"
   ]
  },
  {
   "cell_type": "markdown",
   "metadata": {
    "colab_type": "text",
    "id": "yH3fynY6bZ2i"
   },
   "source": [
    "<b>New feature slightly improve model efficiency, so its addition was the right step.</b>"
   ]
  },
  {
   "cell_type": "markdown",
   "metadata": {},
   "source": [
    "<br><br><h1 style='text-align:center'>Model tuning</h1>\n",
    "<h4 style='text-align:center'><b>Random Forest performs best so I take it to further hyperparameters tune by random search method.</b></h4>"
   ]
  },
  {
   "cell_type": "code",
   "execution_count": 12,
   "metadata": {
    "colab": {
     "base_uri": "https://localhost:8080/",
     "height": 286
    },
    "colab_type": "code",
    "executionInfo": {
     "elapsed": 1047,
     "status": "ok",
     "timestamp": 1567586496106,
     "user": {
      "displayName": "Tomasz Kościelniak",
      "photoUrl": "",
      "userId": "17177696409305527274"
     },
     "user_tz": -120
    },
    "id": "r5HnCPShbZ2k",
    "outputId": "b7bbef90-9996-4981-b442-0f4a2fabcd78"
   },
   "outputs": [
    {
     "name": "stdout",
     "output_type": "stream",
     "text": [
      "{'bootstrap': True,\n",
      " 'criterion': 'mse',\n",
      " 'max_depth': 10,\n",
      " 'max_features': 'auto',\n",
      " 'max_leaf_nodes': None,\n",
      " 'min_impurity_decrease': 0.0,\n",
      " 'min_impurity_split': None,\n",
      " 'min_samples_leaf': 1,\n",
      " 'min_samples_split': 2,\n",
      " 'min_weight_fraction_leaf': 0.0,\n",
      " 'n_estimators': 10,\n",
      " 'n_jobs': None,\n",
      " 'oob_score': False,\n",
      " 'random_state': None,\n",
      " 'verbose': 0,\n",
      " 'warm_start': False}\n"
     ]
    }
   ],
   "source": [
    "from pprint import pprint # show parameters used by model\n",
    "pprint(model_forest.get_params())"
   ]
  },
  {
   "cell_type": "code",
   "execution_count": 0,
   "metadata": {
    "colab": {},
    "colab_type": "code",
    "id": "m6_R0ApPbZ2n"
   },
   "outputs": [],
   "source": [
    "from sklearn.model_selection import RandomizedSearchCV\n",
    "\n",
    "max_depth = [4, 8, 10, 16]\n",
    "n_estimators = [4, 10, 50, 100]\n",
    "min_samples_split = [2, 4, 8, 12]\n",
    "min_samples_leaf = [2, 4, 8, 12]\n",
    "\n",
    "param_grid = {\n",
    "     'max_depth': max_depth,\n",
    "     'n_estimators': n_estimators,\n",
    "     'min_samples_split': min_samples_split, \n",
    "     'min_samples_leaf': min_samples_leaf\n",
    "}\n",
    "\n",
    "model = RandomForestRegressor()\n",
    "\n",
    "forest_random_search = RandomizedSearchCV(\n",
    "       estimator=model, \n",
    "       param_distributions=param_grid,\n",
    "       n_iter = 100, \n",
    "       scoring='neg_mean_absolute_error', \n",
    "       cv = 3, \n",
    "       random_state=42, \n",
    "       return_train_score=True\n",
    ")"
   ]
  },
  {
   "cell_type": "code",
   "execution_count": 14,
   "metadata": {
    "colab": {
     "base_uri": "https://localhost:8080/",
     "height": 403
    },
    "colab_type": "code",
    "executionInfo": {
     "elapsed": 3538105,
     "status": "ok",
     "timestamp": 1567590187039,
     "user": {
      "displayName": "Tomasz Kościelniak",
      "photoUrl": "",
      "userId": "17177696409305527274"
     },
     "user_tz": -120
    },
    "id": "RcMCbN4dbZ2p",
    "outputId": "4f28dcf2-7399-4f6f-c19e-3bdf4de84ea8"
   },
   "outputs": [
    {
     "data": {
      "text/plain": [
       "RandomizedSearchCV(cv=3, error_score='raise-deprecating',\n",
       "                   estimator=RandomForestRegressor(bootstrap=True,\n",
       "                                                   criterion='mse',\n",
       "                                                   max_depth=None,\n",
       "                                                   max_features='auto',\n",
       "                                                   max_leaf_nodes=None,\n",
       "                                                   min_impurity_decrease=0.0,\n",
       "                                                   min_impurity_split=None,\n",
       "                                                   min_samples_leaf=1,\n",
       "                                                   min_samples_split=2,\n",
       "                                                   min_weight_fraction_leaf=0.0,\n",
       "                                                   n_estimators='warn',\n",
       "                                                   n_jobs=None, oob_score=False,\n",
       "                                                   random_state=None, verbose=0,\n",
       "                                                   warm_start=False),\n",
       "                   iid='warn', n_iter=100, n_jobs=None,\n",
       "                   param_distributions={'max_depth': [4, 8, 10, 16],\n",
       "                                        'min_samples_leaf': [2, 4, 8, 12],\n",
       "                                        'min_samples_split': [2, 4, 8, 12],\n",
       "                                        'n_estimators': [4, 10, 50, 100]},\n",
       "                   pre_dispatch='2*n_jobs', random_state=42, refit=True,\n",
       "                   return_train_score=True, scoring='neg_mean_absolute_error',\n",
       "                   verbose=0)"
      ]
     },
     "execution_count": 14,
     "metadata": {
      "tags": []
     },
     "output_type": "execute_result"
    }
   ],
   "source": [
    "X = trams[['stop','number','direction_num','vehicleId','seq_num','tram_hour']]\n",
    "scaler.fit(X)\n",
    "X_scaled = scaler.transform(X)\n",
    "\n",
    "y = trams['delay_sec']\n",
    "\n",
    "forest_random_search.fit(X_scaled, y)"
   ]
  },
  {
   "cell_type": "code",
   "execution_count": 15,
   "metadata": {
    "colab": {
     "base_uri": "https://localhost:8080/",
     "height": 84
    },
    "colab_type": "code",
    "executionInfo": {
     "elapsed": 1034,
     "status": "ok",
     "timestamp": 1567590601901,
     "user": {
      "displayName": "Tomasz Kościelniak",
      "photoUrl": "",
      "userId": "17177696409305527274"
     },
     "user_tz": -120
    },
    "id": "fWLYkgGKcgLT",
    "outputId": "8d7ab9e7-5175-4c59-d7b9-c4f06e045b01"
   },
   "outputs": [
    {
     "data": {
      "text/plain": [
       "{'max_depth': 16,\n",
       " 'min_samples_leaf': 2,\n",
       " 'min_samples_split': 4,\n",
       " 'n_estimators': 100}"
      ]
     },
     "execution_count": 15,
     "metadata": {
      "tags": []
     },
     "output_type": "execute_result"
    }
   ],
   "source": [
    "forest_random_search.best_params_"
   ]
  },
  {
   "cell_type": "code",
   "execution_count": 17,
   "metadata": {
    "colab": {
     "base_uri": "https://localhost:8080/",
     "height": 50
    },
    "colab_type": "code",
    "executionInfo": {
     "elapsed": 123629,
     "status": "ok",
     "timestamp": 1567591147848,
     "user": {
      "displayName": "Tomasz Kościelniak",
      "photoUrl": "",
      "userId": "17177696409305527274"
     },
     "user_tz": -120
    },
    "id": "VU3YFymrrlAc",
    "outputId": "cb1e5f66-40f1-4d7c-c407-96c97e9d1e77"
   },
   "outputs": [
    {
     "name": "stdout",
     "output_type": "stream",
     "text": [
      "Best results Random Forest:\n",
      "MAE:  -43.93498799144002 STD: 0.5721118660333777\n"
     ]
    }
   ],
   "source": [
    "# creating and testing model with the best parameters\n",
    "best_model = forest_random_search.best_estimator_\n",
    "\n",
    "print('Best results Random Forest:')\n",
    "best_scores_forest = cross_val_score(best_model, X_scaled, y, cv=3, scoring='neg_mean_absolute_error')\n",
    "print('MAE: ', np.mean(best_scores_forest), 'STD:', np.std(best_scores_forest))"
   ]
  },
  {
   "cell_type": "markdown",
   "metadata": {},
   "source": [
    "<h3 style='text-align:center;'>Tuned model show MAE improvement by 2.36 sec and STD by 0.02 sec. <br>In summary, the model performs quite well. The 43 second prediction error is acceptable for tram passengers.</h3><br><br>"
   ]
  }
 ],
 "metadata": {
  "accelerator": "GPU",
  "colab": {
   "collapsed_sections": [],
   "name": "krakow_trams.ipynb",
   "provenance": [],
   "version": "0.3.2"
  },
  "kernelspec": {
   "display_name": "Python 3",
   "language": "python",
   "name": "python3"
  },
  "language_info": {
   "codemirror_mode": {
    "name": "ipython",
    "version": 3
   },
   "file_extension": ".py",
   "mimetype": "text/x-python",
   "name": "python",
   "nbconvert_exporter": "python",
   "pygments_lexer": "ipython3",
   "version": "3.7.3"
  }
 },
 "nbformat": 4,
 "nbformat_minor": 1
}
