{
 "cells": [
  {
   "cell_type": "markdown",
   "metadata": {},
   "source": [
    "<h1 style=\"text-align:center; font-size:30px;\">A model that estimates the value of players based on their skills, physical characteristics and recognition.</h1>\n",
    "<p style=\"text-align:center\">The data used in the model come from kaggle.com - https://www.kaggle.com/karangadiya/fifa19</p>\n",
    "<h3 style=\"text-align:center\">The model aims to provide information for football agents and managers of football clubs that will allow them to negotiate more adequate amounts of transfers.</h3>"
   ]
  },
  {
   "cell_type": "code",
   "execution_count": 1,
   "metadata": {},
   "outputs": [],
   "source": [
    "import pandas as pd\n",
    "import numpy as np\n",
    "import matplotlib.pyplot as plt\n",
    "import seaborn as sns\n",
    "%matplotlib inline"
   ]
  },
  {
   "cell_type": "markdown",
   "metadata": {},
   "source": [
    "<h2>A glance at the data</h2>"
   ]
  },
  {
   "cell_type": "code",
   "execution_count": 2,
   "metadata": {},
   "outputs": [],
   "source": [
    "footballers = pd.read_csv('fifa19.csv')"
   ]
  },
  {
   "cell_type": "markdown",
   "metadata": {},
   "source": [
    "<b>The data set consists of 89 columns of data. However, most of them are meaningless and do not apply when predicting the value of a player. Therefore, in a moment some of them will be removed.</b>"
   ]
  },
  {
   "cell_type": "code",
   "execution_count": 3,
   "metadata": {},
   "outputs": [
    {
     "data": {
      "text/html": [
       "<div>\n",
       "<style scoped>\n",
       "    .dataframe tbody tr th:only-of-type {\n",
       "        vertical-align: middle;\n",
       "    }\n",
       "\n",
       "    .dataframe tbody tr th {\n",
       "        vertical-align: top;\n",
       "    }\n",
       "\n",
       "    .dataframe thead th {\n",
       "        text-align: right;\n",
       "    }\n",
       "</style>\n",
       "<table border=\"1\" class=\"dataframe\">\n",
       "  <thead>\n",
       "    <tr style=\"text-align: right;\">\n",
       "      <th></th>\n",
       "      <th>Unnamed: 0</th>\n",
       "      <th>ID</th>\n",
       "      <th>Name</th>\n",
       "      <th>Age</th>\n",
       "      <th>Photo</th>\n",
       "      <th>Nationality</th>\n",
       "      <th>Flag</th>\n",
       "      <th>Overall</th>\n",
       "      <th>Potential</th>\n",
       "      <th>Club</th>\n",
       "      <th>...</th>\n",
       "      <th>Composure</th>\n",
       "      <th>Marking</th>\n",
       "      <th>StandingTackle</th>\n",
       "      <th>SlidingTackle</th>\n",
       "      <th>GKDiving</th>\n",
       "      <th>GKHandling</th>\n",
       "      <th>GKKicking</th>\n",
       "      <th>GKPositioning</th>\n",
       "      <th>GKReflexes</th>\n",
       "      <th>Release Clause</th>\n",
       "    </tr>\n",
       "  </thead>\n",
       "  <tbody>\n",
       "    <tr>\n",
       "      <th>0</th>\n",
       "      <td>0</td>\n",
       "      <td>158023</td>\n",
       "      <td>L. Messi</td>\n",
       "      <td>31</td>\n",
       "      <td>https://cdn.sofifa.org/players/4/19/158023.png</td>\n",
       "      <td>Argentina</td>\n",
       "      <td>https://cdn.sofifa.org/flags/52.png</td>\n",
       "      <td>94</td>\n",
       "      <td>94</td>\n",
       "      <td>FC Barcelona</td>\n",
       "      <td>...</td>\n",
       "      <td>96.0</td>\n",
       "      <td>33.0</td>\n",
       "      <td>28.0</td>\n",
       "      <td>26.0</td>\n",
       "      <td>6.0</td>\n",
       "      <td>11.0</td>\n",
       "      <td>15.0</td>\n",
       "      <td>14.0</td>\n",
       "      <td>8.0</td>\n",
       "      <td>€226.5M</td>\n",
       "    </tr>\n",
       "    <tr>\n",
       "      <th>1</th>\n",
       "      <td>1</td>\n",
       "      <td>20801</td>\n",
       "      <td>Cristiano Ronaldo</td>\n",
       "      <td>33</td>\n",
       "      <td>https://cdn.sofifa.org/players/4/19/20801.png</td>\n",
       "      <td>Portugal</td>\n",
       "      <td>https://cdn.sofifa.org/flags/38.png</td>\n",
       "      <td>94</td>\n",
       "      <td>94</td>\n",
       "      <td>Juventus</td>\n",
       "      <td>...</td>\n",
       "      <td>95.0</td>\n",
       "      <td>28.0</td>\n",
       "      <td>31.0</td>\n",
       "      <td>23.0</td>\n",
       "      <td>7.0</td>\n",
       "      <td>11.0</td>\n",
       "      <td>15.0</td>\n",
       "      <td>14.0</td>\n",
       "      <td>11.0</td>\n",
       "      <td>€127.1M</td>\n",
       "    </tr>\n",
       "    <tr>\n",
       "      <th>2</th>\n",
       "      <td>2</td>\n",
       "      <td>190871</td>\n",
       "      <td>Neymar Jr</td>\n",
       "      <td>26</td>\n",
       "      <td>https://cdn.sofifa.org/players/4/19/190871.png</td>\n",
       "      <td>Brazil</td>\n",
       "      <td>https://cdn.sofifa.org/flags/54.png</td>\n",
       "      <td>92</td>\n",
       "      <td>93</td>\n",
       "      <td>Paris Saint-Germain</td>\n",
       "      <td>...</td>\n",
       "      <td>94.0</td>\n",
       "      <td>27.0</td>\n",
       "      <td>24.0</td>\n",
       "      <td>33.0</td>\n",
       "      <td>9.0</td>\n",
       "      <td>9.0</td>\n",
       "      <td>15.0</td>\n",
       "      <td>15.0</td>\n",
       "      <td>11.0</td>\n",
       "      <td>€228.1M</td>\n",
       "    </tr>\n",
       "    <tr>\n",
       "      <th>3</th>\n",
       "      <td>3</td>\n",
       "      <td>193080</td>\n",
       "      <td>De Gea</td>\n",
       "      <td>27</td>\n",
       "      <td>https://cdn.sofifa.org/players/4/19/193080.png</td>\n",
       "      <td>Spain</td>\n",
       "      <td>https://cdn.sofifa.org/flags/45.png</td>\n",
       "      <td>91</td>\n",
       "      <td>93</td>\n",
       "      <td>Manchester United</td>\n",
       "      <td>...</td>\n",
       "      <td>68.0</td>\n",
       "      <td>15.0</td>\n",
       "      <td>21.0</td>\n",
       "      <td>13.0</td>\n",
       "      <td>90.0</td>\n",
       "      <td>85.0</td>\n",
       "      <td>87.0</td>\n",
       "      <td>88.0</td>\n",
       "      <td>94.0</td>\n",
       "      <td>€138.6M</td>\n",
       "    </tr>\n",
       "    <tr>\n",
       "      <th>4</th>\n",
       "      <td>4</td>\n",
       "      <td>192985</td>\n",
       "      <td>K. De Bruyne</td>\n",
       "      <td>27</td>\n",
       "      <td>https://cdn.sofifa.org/players/4/19/192985.png</td>\n",
       "      <td>Belgium</td>\n",
       "      <td>https://cdn.sofifa.org/flags/7.png</td>\n",
       "      <td>91</td>\n",
       "      <td>92</td>\n",
       "      <td>Manchester City</td>\n",
       "      <td>...</td>\n",
       "      <td>88.0</td>\n",
       "      <td>68.0</td>\n",
       "      <td>58.0</td>\n",
       "      <td>51.0</td>\n",
       "      <td>15.0</td>\n",
       "      <td>13.0</td>\n",
       "      <td>5.0</td>\n",
       "      <td>10.0</td>\n",
       "      <td>13.0</td>\n",
       "      <td>€196.4M</td>\n",
       "    </tr>\n",
       "  </tbody>\n",
       "</table>\n",
       "<p>5 rows × 89 columns</p>\n",
       "</div>"
      ],
      "text/plain": [
       "   Unnamed: 0      ID               Name  Age  \\\n",
       "0           0  158023           L. Messi   31   \n",
       "1           1   20801  Cristiano Ronaldo   33   \n",
       "2           2  190871          Neymar Jr   26   \n",
       "3           3  193080             De Gea   27   \n",
       "4           4  192985       K. De Bruyne   27   \n",
       "\n",
       "                                            Photo Nationality  \\\n",
       "0  https://cdn.sofifa.org/players/4/19/158023.png   Argentina   \n",
       "1   https://cdn.sofifa.org/players/4/19/20801.png    Portugal   \n",
       "2  https://cdn.sofifa.org/players/4/19/190871.png      Brazil   \n",
       "3  https://cdn.sofifa.org/players/4/19/193080.png       Spain   \n",
       "4  https://cdn.sofifa.org/players/4/19/192985.png     Belgium   \n",
       "\n",
       "                                  Flag  Overall  Potential  \\\n",
       "0  https://cdn.sofifa.org/flags/52.png       94         94   \n",
       "1  https://cdn.sofifa.org/flags/38.png       94         94   \n",
       "2  https://cdn.sofifa.org/flags/54.png       92         93   \n",
       "3  https://cdn.sofifa.org/flags/45.png       91         93   \n",
       "4   https://cdn.sofifa.org/flags/7.png       91         92   \n",
       "\n",
       "                  Club  ... Composure Marking StandingTackle  SlidingTackle  \\\n",
       "0         FC Barcelona  ...      96.0    33.0           28.0           26.0   \n",
       "1             Juventus  ...      95.0    28.0           31.0           23.0   \n",
       "2  Paris Saint-Germain  ...      94.0    27.0           24.0           33.0   \n",
       "3    Manchester United  ...      68.0    15.0           21.0           13.0   \n",
       "4      Manchester City  ...      88.0    68.0           58.0           51.0   \n",
       "\n",
       "  GKDiving  GKHandling  GKKicking  GKPositioning GKReflexes Release Clause  \n",
       "0      6.0        11.0       15.0           14.0        8.0        €226.5M  \n",
       "1      7.0        11.0       15.0           14.0       11.0        €127.1M  \n",
       "2      9.0         9.0       15.0           15.0       11.0        €228.1M  \n",
       "3     90.0        85.0       87.0           88.0       94.0        €138.6M  \n",
       "4     15.0        13.0        5.0           10.0       13.0        €196.4M  \n",
       "\n",
       "[5 rows x 89 columns]"
      ]
     },
     "execution_count": 3,
     "metadata": {},
     "output_type": "execute_result"
    }
   ],
   "source": [
    "footballers.head()"
   ]
  },
  {
   "cell_type": "code",
   "execution_count": 4,
   "metadata": {
    "scrolled": true
   },
   "outputs": [
    {
     "name": "stdout",
     "output_type": "stream",
     "text": [
      "<class 'pandas.core.frame.DataFrame'>\n",
      "RangeIndex: 18207 entries, 0 to 18206\n",
      "Data columns (total 89 columns):\n",
      "Unnamed: 0                  18207 non-null int64\n",
      "ID                          18207 non-null int64\n",
      "Name                        18207 non-null object\n",
      "Age                         18207 non-null int64\n",
      "Photo                       18207 non-null object\n",
      "Nationality                 18207 non-null object\n",
      "Flag                        18207 non-null object\n",
      "Overall                     18207 non-null int64\n",
      "Potential                   18207 non-null int64\n",
      "Club                        17966 non-null object\n",
      "Club Logo                   18207 non-null object\n",
      "Value                       18207 non-null object\n",
      "Wage                        18207 non-null object\n",
      "Special                     18207 non-null int64\n",
      "Preferred Foot              18159 non-null object\n",
      "International Reputation    18159 non-null float64\n",
      "Weak Foot                   18159 non-null float64\n",
      "Skill Moves                 18159 non-null float64\n",
      "Work Rate                   18159 non-null object\n",
      "Body Type                   18159 non-null object\n",
      "Real Face                   18159 non-null object\n",
      "Position                    18147 non-null object\n",
      "Jersey Number               18147 non-null float64\n",
      "Joined                      16654 non-null object\n",
      "Loaned From                 1264 non-null object\n",
      "Contract Valid Until        17918 non-null object\n",
      "Height                      18159 non-null object\n",
      "Weight                      18159 non-null object\n",
      "LS                          16122 non-null object\n",
      "ST                          16122 non-null object\n",
      "RS                          16122 non-null object\n",
      "LW                          16122 non-null object\n",
      "LF                          16122 non-null object\n",
      "CF                          16122 non-null object\n",
      "RF                          16122 non-null object\n",
      "RW                          16122 non-null object\n",
      "LAM                         16122 non-null object\n",
      "CAM                         16122 non-null object\n",
      "RAM                         16122 non-null object\n",
      "LM                          16122 non-null object\n",
      "LCM                         16122 non-null object\n",
      "CM                          16122 non-null object\n",
      "RCM                         16122 non-null object\n",
      "RM                          16122 non-null object\n",
      "LWB                         16122 non-null object\n",
      "LDM                         16122 non-null object\n",
      "CDM                         16122 non-null object\n",
      "RDM                         16122 non-null object\n",
      "RWB                         16122 non-null object\n",
      "LB                          16122 non-null object\n",
      "LCB                         16122 non-null object\n",
      "CB                          16122 non-null object\n",
      "RCB                         16122 non-null object\n",
      "RB                          16122 non-null object\n",
      "Crossing                    18159 non-null float64\n",
      "Finishing                   18159 non-null float64\n",
      "HeadingAccuracy             18159 non-null float64\n",
      "ShortPassing                18159 non-null float64\n",
      "Volleys                     18159 non-null float64\n",
      "Dribbling                   18159 non-null float64\n",
      "Curve                       18159 non-null float64\n",
      "FKAccuracy                  18159 non-null float64\n",
      "LongPassing                 18159 non-null float64\n",
      "BallControl                 18159 non-null float64\n",
      "Acceleration                18159 non-null float64\n",
      "SprintSpeed                 18159 non-null float64\n",
      "Agility                     18159 non-null float64\n",
      "Reactions                   18159 non-null float64\n",
      "Balance                     18159 non-null float64\n",
      "ShotPower                   18159 non-null float64\n",
      "Jumping                     18159 non-null float64\n",
      "Stamina                     18159 non-null float64\n",
      "Strength                    18159 non-null float64\n",
      "LongShots                   18159 non-null float64\n",
      "Aggression                  18159 non-null float64\n",
      "Interceptions               18159 non-null float64\n",
      "Positioning                 18159 non-null float64\n",
      "Vision                      18159 non-null float64\n",
      "Penalties                   18159 non-null float64\n",
      "Composure                   18159 non-null float64\n",
      "Marking                     18159 non-null float64\n",
      "StandingTackle              18159 non-null float64\n",
      "SlidingTackle               18159 non-null float64\n",
      "GKDiving                    18159 non-null float64\n",
      "GKHandling                  18159 non-null float64\n",
      "GKKicking                   18159 non-null float64\n",
      "GKPositioning               18159 non-null float64\n",
      "GKReflexes                  18159 non-null float64\n",
      "Release Clause              16643 non-null object\n",
      "dtypes: float64(38), int64(6), object(45)\n",
      "memory usage: 12.4+ MB\n"
     ]
    }
   ],
   "source": [
    "footballers.info()"
   ]
  },
  {
   "cell_type": "markdown",
   "metadata": {},
   "source": [
    "<b>In the case of goalkeepers, other qualities (e.g. Diving or Handling) count than those from field players. Therefore, in this model I will only predict the value of players from the field. All Goalkeepers are deleted from the list, because their presence would distort the data.</b> "
   ]
  },
  {
   "cell_type": "code",
   "execution_count": 5,
   "metadata": {},
   "outputs": [],
   "source": [
    "footballers.drop(footballers[footballers[\"Position\"]==\"GK\"].index, inplace=True)"
   ]
  },
  {
   "cell_type": "markdown",
   "metadata": {},
   "source": [
    "<b>I delete data that does not matter when assessing a player's value, are not quantifiable or would complicate the model too much.</b>"
   ]
  },
  {
   "cell_type": "code",
   "execution_count": 6,
   "metadata": {},
   "outputs": [],
   "source": [
    "delate_data = ['Unnamed: 0','ID','Name','Photo','Nationality','Flag','Club','Club Logo','Real Face',\n",
    "               'Jersey Number','Joined','Contract Valid Until','Loaned From','LS','ST','RS','LW','LF','CF',\n",
    "               'RF','RW','LAM','CAM','RAM','LM','LCM','CM','RCM','RM','LWB','LDM','CDM','RDM','RWB','LB','LCB',\n",
    "               'CB','RCB','RB','GKDiving','GKHandling','GKKicking','GKPositioning','GKReflexes','Release Clause']"
   ]
  },
  {
   "cell_type": "code",
   "execution_count": 7,
   "metadata": {},
   "outputs": [],
   "source": [
    "footballers.drop(delate_data, axis=1, inplace=True)"
   ]
  },
  {
   "cell_type": "markdown",
   "metadata": {},
   "source": [
    "<b>Other data seem (at least for now) to matter for our model. However, some of them are text format, so I need to convert them to numbers to be able to use them in the learning algorithm.</b>"
   ]
  },
  {
   "cell_type": "code",
   "execution_count": 8,
   "metadata": {
    "scrolled": true
   },
   "outputs": [
    {
     "name": "stdout",
     "output_type": "stream",
     "text": [
      "<class 'pandas.core.frame.DataFrame'>\n",
      "Int64Index: 16182 entries, 0 to 18206\n",
      "Data columns (total 44 columns):\n",
      "Age                         16182 non-null int64\n",
      "Overall                     16182 non-null int64\n",
      "Potential                   16182 non-null int64\n",
      "Value                       16182 non-null object\n",
      "Wage                        16182 non-null object\n",
      "Special                     16182 non-null int64\n",
      "Preferred Foot              16134 non-null object\n",
      "International Reputation    16134 non-null float64\n",
      "Weak Foot                   16134 non-null float64\n",
      "Skill Moves                 16134 non-null float64\n",
      "Work Rate                   16134 non-null object\n",
      "Body Type                   16134 non-null object\n",
      "Position                    16122 non-null object\n",
      "Height                      16134 non-null object\n",
      "Weight                      16134 non-null object\n",
      "Crossing                    16134 non-null float64\n",
      "Finishing                   16134 non-null float64\n",
      "HeadingAccuracy             16134 non-null float64\n",
      "ShortPassing                16134 non-null float64\n",
      "Volleys                     16134 non-null float64\n",
      "Dribbling                   16134 non-null float64\n",
      "Curve                       16134 non-null float64\n",
      "FKAccuracy                  16134 non-null float64\n",
      "LongPassing                 16134 non-null float64\n",
      "BallControl                 16134 non-null float64\n",
      "Acceleration                16134 non-null float64\n",
      "SprintSpeed                 16134 non-null float64\n",
      "Agility                     16134 non-null float64\n",
      "Reactions                   16134 non-null float64\n",
      "Balance                     16134 non-null float64\n",
      "ShotPower                   16134 non-null float64\n",
      "Jumping                     16134 non-null float64\n",
      "Stamina                     16134 non-null float64\n",
      "Strength                    16134 non-null float64\n",
      "LongShots                   16134 non-null float64\n",
      "Aggression                  16134 non-null float64\n",
      "Interceptions               16134 non-null float64\n",
      "Positioning                 16134 non-null float64\n",
      "Vision                      16134 non-null float64\n",
      "Penalties                   16134 non-null float64\n",
      "Composure                   16134 non-null float64\n",
      "Marking                     16134 non-null float64\n",
      "StandingTackle              16134 non-null float64\n",
      "SlidingTackle               16134 non-null float64\n",
      "dtypes: float64(32), int64(4), object(8)\n",
      "memory usage: 5.6+ MB\n"
     ]
    }
   ],
   "source": [
    "footballers.info()"
   ]
  },
  {
   "cell_type": "markdown",
   "metadata": {},
   "source": [
    "<h2>Data cleaning and transformation</h2>"
   ]
  },
  {
   "cell_type": "markdown",
   "metadata": {},
   "source": [
    "<b>The value of a player is information that our model is supposed to estimate. Currently, the player's value is a text type variable. I can't pass textual data to the machine learning algorithm so I make the appropriate transformations to get data in numeric format. </b>"
   ]
  },
  {
   "cell_type": "code",
   "execution_count": 9,
   "metadata": {},
   "outputs": [
    {
     "data": {
      "text/plain": [
       "0    €110.5M\n",
       "1       €77M\n",
       "2    €118.5M\n",
       "4      €102M\n",
       "5       €93M\n",
       "Name: Value, dtype: object"
      ]
     },
     "execution_count": 9,
     "metadata": {},
     "output_type": "execute_result"
    }
   ],
   "source": [
    "footballers[\"Value\"].head()"
   ]
  },
  {
   "cell_type": "markdown",
   "metadata": {},
   "source": [
    "<b>At the beginning I clear the data by deleting all 216 players whose value is equal to 0€. Such data could cause unwanted anomalies.</b>"
   ]
  },
  {
   "cell_type": "code",
   "execution_count": 10,
   "metadata": {},
   "outputs": [
    {
     "data": {
      "text/plain": [
       "216"
      ]
     },
     "execution_count": 10,
     "metadata": {},
     "output_type": "execute_result"
    }
   ],
   "source": [
    "len(footballers[footballers[\"Value\"]==\"€0\"])"
   ]
  },
  {
   "cell_type": "code",
   "execution_count": 11,
   "metadata": {},
   "outputs": [],
   "source": [
    "footballers.drop(footballers[footballers[\"Value\"]==\"€0\"].index, inplace=True)"
   ]
  },
  {
   "cell_type": "markdown",
   "metadata": {},
   "source": [
    "<b>I reset the index because after removing goalkeepers and players worth 0 € the index has become non-continuous.</b>"
   ]
  },
  {
   "cell_type": "code",
   "execution_count": 12,
   "metadata": {},
   "outputs": [],
   "source": [
    "footballers.set_index(\"Age\", inplace=True) # I temporarily change the index to the age column"
   ]
  },
  {
   "cell_type": "code",
   "execution_count": 13,
   "metadata": {},
   "outputs": [],
   "source": [
    "footballers.reset_index(inplace=True)  # then I reset the index so a new default is assigned"
   ]
  },
  {
   "cell_type": "markdown",
   "metadata": {},
   "source": [
    "<b>A function that changes data from the 'Value' column to the float type.</b>"
   ]
  },
  {
   "cell_type": "code",
   "execution_count": 14,
   "metadata": {},
   "outputs": [],
   "source": [
    "def change_from_str_to_number_value(value_str):\n",
    "    if value_str[-1] == \"M\":\n",
    "        value_number = float(value_str[1:-1])\n",
    "    else:\n",
    "        value_number = round(float(value_str[1:-1]) / 1000 , 2)\n",
    "    return value_number"
   ]
  },
  {
   "cell_type": "code",
   "execution_count": 15,
   "metadata": {
    "scrolled": true
   },
   "outputs": [],
   "source": [
    "values = []\n",
    "for i in range(len(footballers)):\n",
    "    values.append(change_from_str_to_number_value(footballers[\"Value\"][i]))"
   ]
  },
  {
   "cell_type": "markdown",
   "metadata": {},
   "source": [
    "<b>I remove the 'Value' column from the DataFrame and replace it with a float type column.</b>"
   ]
  },
  {
   "cell_type": "code",
   "execution_count": 16,
   "metadata": {},
   "outputs": [],
   "source": [
    "footballers.drop('Value', axis=1, inplace=True)"
   ]
  },
  {
   "cell_type": "code",
   "execution_count": 17,
   "metadata": {},
   "outputs": [],
   "source": [
    "footballers.insert(0, \"Value(mln €)\", values, True) "
   ]
  },
  {
   "cell_type": "code",
   "execution_count": 18,
   "metadata": {},
   "outputs": [
    {
     "data": {
      "text/html": [
       "<div>\n",
       "<style scoped>\n",
       "    .dataframe tbody tr th:only-of-type {\n",
       "        vertical-align: middle;\n",
       "    }\n",
       "\n",
       "    .dataframe tbody tr th {\n",
       "        vertical-align: top;\n",
       "    }\n",
       "\n",
       "    .dataframe thead th {\n",
       "        text-align: right;\n",
       "    }\n",
       "</style>\n",
       "<table border=\"1\" class=\"dataframe\">\n",
       "  <thead>\n",
       "    <tr style=\"text-align: right;\">\n",
       "      <th></th>\n",
       "      <th>Value(mln €)</th>\n",
       "      <th>Age</th>\n",
       "      <th>Overall</th>\n",
       "      <th>Potential</th>\n",
       "      <th>Wage</th>\n",
       "      <th>Special</th>\n",
       "      <th>Preferred Foot</th>\n",
       "      <th>International Reputation</th>\n",
       "      <th>Weak Foot</th>\n",
       "      <th>Skill Moves</th>\n",
       "      <th>...</th>\n",
       "      <th>LongShots</th>\n",
       "      <th>Aggression</th>\n",
       "      <th>Interceptions</th>\n",
       "      <th>Positioning</th>\n",
       "      <th>Vision</th>\n",
       "      <th>Penalties</th>\n",
       "      <th>Composure</th>\n",
       "      <th>Marking</th>\n",
       "      <th>StandingTackle</th>\n",
       "      <th>SlidingTackle</th>\n",
       "    </tr>\n",
       "  </thead>\n",
       "  <tbody>\n",
       "    <tr>\n",
       "      <th>0</th>\n",
       "      <td>110.5</td>\n",
       "      <td>31</td>\n",
       "      <td>94</td>\n",
       "      <td>94</td>\n",
       "      <td>€565K</td>\n",
       "      <td>2202</td>\n",
       "      <td>Left</td>\n",
       "      <td>5.0</td>\n",
       "      <td>4.0</td>\n",
       "      <td>4.0</td>\n",
       "      <td>...</td>\n",
       "      <td>94.0</td>\n",
       "      <td>48.0</td>\n",
       "      <td>22.0</td>\n",
       "      <td>94.0</td>\n",
       "      <td>94.0</td>\n",
       "      <td>75.0</td>\n",
       "      <td>96.0</td>\n",
       "      <td>33.0</td>\n",
       "      <td>28.0</td>\n",
       "      <td>26.0</td>\n",
       "    </tr>\n",
       "    <tr>\n",
       "      <th>1</th>\n",
       "      <td>77.0</td>\n",
       "      <td>33</td>\n",
       "      <td>94</td>\n",
       "      <td>94</td>\n",
       "      <td>€405K</td>\n",
       "      <td>2228</td>\n",
       "      <td>Right</td>\n",
       "      <td>5.0</td>\n",
       "      <td>4.0</td>\n",
       "      <td>5.0</td>\n",
       "      <td>...</td>\n",
       "      <td>93.0</td>\n",
       "      <td>63.0</td>\n",
       "      <td>29.0</td>\n",
       "      <td>95.0</td>\n",
       "      <td>82.0</td>\n",
       "      <td>85.0</td>\n",
       "      <td>95.0</td>\n",
       "      <td>28.0</td>\n",
       "      <td>31.0</td>\n",
       "      <td>23.0</td>\n",
       "    </tr>\n",
       "    <tr>\n",
       "      <th>2</th>\n",
       "      <td>118.5</td>\n",
       "      <td>26</td>\n",
       "      <td>92</td>\n",
       "      <td>93</td>\n",
       "      <td>€290K</td>\n",
       "      <td>2143</td>\n",
       "      <td>Right</td>\n",
       "      <td>5.0</td>\n",
       "      <td>5.0</td>\n",
       "      <td>5.0</td>\n",
       "      <td>...</td>\n",
       "      <td>82.0</td>\n",
       "      <td>56.0</td>\n",
       "      <td>36.0</td>\n",
       "      <td>89.0</td>\n",
       "      <td>87.0</td>\n",
       "      <td>81.0</td>\n",
       "      <td>94.0</td>\n",
       "      <td>27.0</td>\n",
       "      <td>24.0</td>\n",
       "      <td>33.0</td>\n",
       "    </tr>\n",
       "  </tbody>\n",
       "</table>\n",
       "<p>3 rows × 44 columns</p>\n",
       "</div>"
      ],
      "text/plain": [
       "   Value(mln €)  Age  Overall  Potential   Wage  Special Preferred Foot  \\\n",
       "0         110.5   31       94         94  €565K     2202           Left   \n",
       "1          77.0   33       94         94  €405K     2228          Right   \n",
       "2         118.5   26       92         93  €290K     2143          Right   \n",
       "\n",
       "   International Reputation  Weak Foot  Skill Moves  ... LongShots Aggression  \\\n",
       "0                       5.0        4.0          4.0  ...      94.0       48.0   \n",
       "1                       5.0        4.0          5.0  ...      93.0       63.0   \n",
       "2                       5.0        5.0          5.0  ...      82.0       56.0   \n",
       "\n",
       "  Interceptions Positioning Vision  Penalties  Composure  Marking  \\\n",
       "0          22.0        94.0   94.0       75.0       96.0     33.0   \n",
       "1          29.0        95.0   82.0       85.0       95.0     28.0   \n",
       "2          36.0        89.0   87.0       81.0       94.0     27.0   \n",
       "\n",
       "   StandingTackle  SlidingTackle  \n",
       "0            28.0           26.0  \n",
       "1            31.0           23.0  \n",
       "2            24.0           33.0  \n",
       "\n",
       "[3 rows x 44 columns]"
      ]
     },
     "execution_count": 18,
     "metadata": {},
     "output_type": "execute_result"
    }
   ],
   "source": [
    "footballers.head(3)"
   ]
  },
  {
   "cell_type": "markdown",
   "metadata": {},
   "source": [
    "<b>I do the same with the 'Wage' column.</b>"
   ]
  },
  {
   "cell_type": "code",
   "execution_count": 19,
   "metadata": {},
   "outputs": [],
   "source": [
    "def change_from_str_to_number_wage(wage_str):\n",
    "    wage_number = float(wage_str[1:-1])\n",
    "    return wage_number"
   ]
  },
  {
   "cell_type": "code",
   "execution_count": 20,
   "metadata": {},
   "outputs": [],
   "source": [
    "wages = []\n",
    "for i in range(len(footballers)):\n",
    "    wages.append(change_from_str_to_number_wage(footballers[\"Wage\"][i]))"
   ]
  },
  {
   "cell_type": "code",
   "execution_count": 21,
   "metadata": {},
   "outputs": [],
   "source": [
    "footballers.drop('Wage', axis=1, inplace=True)"
   ]
  },
  {
   "cell_type": "code",
   "execution_count": 22,
   "metadata": {},
   "outputs": [],
   "source": [
    "footballers.insert(1, \"Wage(thous €)\", wages, True) "
   ]
  },
  {
   "cell_type": "markdown",
   "metadata": {},
   "source": [
    "<b>The next column to be modified is 'Preffered Foot'. The column has only 2 Left or Right values, so it is a categorical attribute that can be easily classified. I will assign a value of 1 for 'Right' and 0 for 'Left'.</b>"
   ]
  },
  {
   "cell_type": "code",
   "execution_count": 23,
   "metadata": {},
   "outputs": [
    {
     "data": {
      "text/plain": [
       "Right    11964\n",
       "Left      3954\n",
       "Name: Preferred Foot, dtype: int64"
      ]
     },
     "execution_count": 23,
     "metadata": {},
     "output_type": "execute_result"
    }
   ],
   "source": [
    "footballers['Preferred Foot'].value_counts()"
   ]
  },
  {
   "cell_type": "code",
   "execution_count": 24,
   "metadata": {},
   "outputs": [],
   "source": [
    "def classification_foot(foot):\n",
    "    if foot == \"Right\":\n",
    "        foot_val = 1\n",
    "    else:\n",
    "        foot_val = 0\n",
    "    return foot_val"
   ]
  },
  {
   "cell_type": "code",
   "execution_count": 25,
   "metadata": {},
   "outputs": [],
   "source": [
    "foots = []\n",
    "for i in range(len(footballers)):\n",
    "    foots.append(classification_foot(footballers[\"Preferred Foot\"][i]))"
   ]
  },
  {
   "cell_type": "code",
   "execution_count": 26,
   "metadata": {},
   "outputs": [],
   "source": [
    "footballers.drop('Preferred Foot', axis=1, inplace=True)"
   ]
  },
  {
   "cell_type": "code",
   "execution_count": 27,
   "metadata": {},
   "outputs": [],
   "source": [
    "footballers.insert(5, \"Preferred Foot Right\", foots, True) "
   ]
  },
  {
   "cell_type": "markdown",
   "metadata": {},
   "source": [
    "<b>Data in the 'Work Rate' column are also suitable for classification. I decided to split this column into 2 separate columns \"Work Rate Attack\" and \"Work Rate Deffense\". Below is the way how I did it.</b>"
   ]
  },
  {
   "cell_type": "code",
   "execution_count": 28,
   "metadata": {},
   "outputs": [
    {
     "data": {
      "text/plain": [
       "Medium/ Medium    7690\n",
       "High/ Medium      3130\n",
       "Medium/ High      1660\n",
       "High/ High        1007\n",
       "Medium/ Low        840\n",
       "High/ Low          685\n",
       "Low/ Medium        438\n",
       "Low/ High          434\n",
       "Low/ Low            34\n",
       "Name: Work Rate, dtype: int64"
      ]
     },
     "execution_count": 28,
     "metadata": {},
     "output_type": "execute_result"
    }
   ],
   "source": [
    "footballers['Work Rate'].value_counts()"
   ]
  },
  {
   "cell_type": "code",
   "execution_count": 29,
   "metadata": {},
   "outputs": [],
   "source": [
    "def work_rate_attack(work_rate):\n",
    "    if work_rate in [\"Medium/ Medium\",\"Medium/ High\",\"Medium/ Low\"]:\n",
    "        wra = 1\n",
    "    elif work_rate in [\"High/ Medium\",\"High/ High\",\"High/ Low\"]:\n",
    "        wra = 2\n",
    "    else:\n",
    "        wra = 0\n",
    "    return wra   "
   ]
  },
  {
   "cell_type": "code",
   "execution_count": 30,
   "metadata": {},
   "outputs": [],
   "source": [
    "def work_rate_deffense(work_rate):\n",
    "    if work_rate in [\"Medium/ Medium\",\"High/ Medium\",\"Low/ Medium\"]:\n",
    "        wrd = 1\n",
    "    elif work_rate in [\"Medium/ High\",\"High/ High\",\"Low/ High\"]:\n",
    "        wrd = 2\n",
    "    else:\n",
    "        wrd = 0\n",
    "    return wrd "
   ]
  },
  {
   "cell_type": "code",
   "execution_count": 31,
   "metadata": {},
   "outputs": [],
   "source": [
    "wra_list = []\n",
    "wrd_list = []\n",
    "for i in range(len(footballers)):\n",
    "    wra_list.append(work_rate_attack(footballers[\"Work Rate\"][i]))\n",
    "    wrd_list.append(work_rate_deffense(footballers[\"Work Rate\"][i]))"
   ]
  },
  {
   "cell_type": "code",
   "execution_count": 32,
   "metadata": {},
   "outputs": [],
   "source": [
    "footballers.drop('Work Rate', axis=1, inplace=True)"
   ]
  },
  {
   "cell_type": "code",
   "execution_count": 33,
   "metadata": {},
   "outputs": [],
   "source": [
    "footballers.insert(7, \"Work Rate Attack\", wra_list, True) \n",
    "footballers.insert(8, \"Work Rate Deffense\", wrd_list, True) "
   ]
  },
  {
   "cell_type": "code",
   "execution_count": 34,
   "metadata": {},
   "outputs": [
    {
     "data": {
      "text/html": [
       "<div>\n",
       "<style scoped>\n",
       "    .dataframe tbody tr th:only-of-type {\n",
       "        vertical-align: middle;\n",
       "    }\n",
       "\n",
       "    .dataframe tbody tr th {\n",
       "        vertical-align: top;\n",
       "    }\n",
       "\n",
       "    .dataframe thead th {\n",
       "        text-align: right;\n",
       "    }\n",
       "</style>\n",
       "<table border=\"1\" class=\"dataframe\">\n",
       "  <thead>\n",
       "    <tr style=\"text-align: right;\">\n",
       "      <th></th>\n",
       "      <th>Value(mln €)</th>\n",
       "      <th>Wage(thous €)</th>\n",
       "      <th>Age</th>\n",
       "      <th>Overall</th>\n",
       "      <th>Potential</th>\n",
       "      <th>Preferred Foot Right</th>\n",
       "      <th>Special</th>\n",
       "      <th>Work Rate Attack</th>\n",
       "      <th>Work Rate Deffense</th>\n",
       "      <th>International Reputation</th>\n",
       "      <th>...</th>\n",
       "      <th>LongShots</th>\n",
       "      <th>Aggression</th>\n",
       "      <th>Interceptions</th>\n",
       "      <th>Positioning</th>\n",
       "      <th>Vision</th>\n",
       "      <th>Penalties</th>\n",
       "      <th>Composure</th>\n",
       "      <th>Marking</th>\n",
       "      <th>StandingTackle</th>\n",
       "      <th>SlidingTackle</th>\n",
       "    </tr>\n",
       "  </thead>\n",
       "  <tbody>\n",
       "    <tr>\n",
       "      <th>0</th>\n",
       "      <td>110.5</td>\n",
       "      <td>565.0</td>\n",
       "      <td>31</td>\n",
       "      <td>94</td>\n",
       "      <td>94</td>\n",
       "      <td>0</td>\n",
       "      <td>2202</td>\n",
       "      <td>1</td>\n",
       "      <td>1</td>\n",
       "      <td>5.0</td>\n",
       "      <td>...</td>\n",
       "      <td>94.0</td>\n",
       "      <td>48.0</td>\n",
       "      <td>22.0</td>\n",
       "      <td>94.0</td>\n",
       "      <td>94.0</td>\n",
       "      <td>75.0</td>\n",
       "      <td>96.0</td>\n",
       "      <td>33.0</td>\n",
       "      <td>28.0</td>\n",
       "      <td>26.0</td>\n",
       "    </tr>\n",
       "    <tr>\n",
       "      <th>1</th>\n",
       "      <td>77.0</td>\n",
       "      <td>405.0</td>\n",
       "      <td>33</td>\n",
       "      <td>94</td>\n",
       "      <td>94</td>\n",
       "      <td>1</td>\n",
       "      <td>2228</td>\n",
       "      <td>2</td>\n",
       "      <td>0</td>\n",
       "      <td>5.0</td>\n",
       "      <td>...</td>\n",
       "      <td>93.0</td>\n",
       "      <td>63.0</td>\n",
       "      <td>29.0</td>\n",
       "      <td>95.0</td>\n",
       "      <td>82.0</td>\n",
       "      <td>85.0</td>\n",
       "      <td>95.0</td>\n",
       "      <td>28.0</td>\n",
       "      <td>31.0</td>\n",
       "      <td>23.0</td>\n",
       "    </tr>\n",
       "    <tr>\n",
       "      <th>2</th>\n",
       "      <td>118.5</td>\n",
       "      <td>290.0</td>\n",
       "      <td>26</td>\n",
       "      <td>92</td>\n",
       "      <td>93</td>\n",
       "      <td>1</td>\n",
       "      <td>2143</td>\n",
       "      <td>2</td>\n",
       "      <td>1</td>\n",
       "      <td>5.0</td>\n",
       "      <td>...</td>\n",
       "      <td>82.0</td>\n",
       "      <td>56.0</td>\n",
       "      <td>36.0</td>\n",
       "      <td>89.0</td>\n",
       "      <td>87.0</td>\n",
       "      <td>81.0</td>\n",
       "      <td>94.0</td>\n",
       "      <td>27.0</td>\n",
       "      <td>24.0</td>\n",
       "      <td>33.0</td>\n",
       "    </tr>\n",
       "  </tbody>\n",
       "</table>\n",
       "<p>3 rows × 45 columns</p>\n",
       "</div>"
      ],
      "text/plain": [
       "   Value(mln €)  Wage(thous €)  Age  Overall  Potential  Preferred Foot Right  \\\n",
       "0         110.5          565.0   31       94         94                     0   \n",
       "1          77.0          405.0   33       94         94                     1   \n",
       "2         118.5          290.0   26       92         93                     1   \n",
       "\n",
       "   Special  Work Rate Attack  Work Rate Deffense  International Reputation  \\\n",
       "0     2202                 1                   1                       5.0   \n",
       "1     2228                 2                   0                       5.0   \n",
       "2     2143                 2                   1                       5.0   \n",
       "\n",
       "   ...  LongShots  Aggression Interceptions Positioning Vision Penalties  \\\n",
       "0  ...       94.0        48.0          22.0        94.0   94.0      75.0   \n",
       "1  ...       93.0        63.0          29.0        95.0   82.0      85.0   \n",
       "2  ...       82.0        56.0          36.0        89.0   87.0      81.0   \n",
       "\n",
       "   Composure  Marking  StandingTackle  SlidingTackle  \n",
       "0       96.0     33.0            28.0           26.0  \n",
       "1       95.0     28.0            31.0           23.0  \n",
       "2       94.0     27.0            24.0           33.0  \n",
       "\n",
       "[3 rows x 45 columns]"
      ]
     },
     "execution_count": 34,
     "metadata": {},
     "output_type": "execute_result"
    }
   ],
   "source": [
    "footballers.head(3)"
   ]
  },
  {
   "cell_type": "markdown",
   "metadata": {},
   "source": [
    "<p><b>The 'Body Type' column has 3 main classes. As you can see, there are also 6 records that have been classified differently. As I know these players and I know what they look like, I will classify them like below:</b></p>\n",
    "</br><p> Normal (C. Ronaldo, Messi, Shaqiri) = 2</p>\n",
    "</br><p> Lean (Neymar) = 1</p>\n",
    "</br><p> Stocky (Akinfenwa) = 0</p>\n",
    "</br><p> PLAYER_BODY_TYPE_25 is removed from dataset</p>"
   ]
  },
  {
   "cell_type": "code",
   "execution_count": 35,
   "metadata": {},
   "outputs": [
    {
     "data": {
      "text/plain": [
       "Normal                 9010\n",
       "Lean                   5910\n",
       "Stocky                  992\n",
       "Messi                     1\n",
       "C. Ronaldo                1\n",
       "Akinfenwa                 1\n",
       "Neymar                    1\n",
       "Shaqiri                   1\n",
       "PLAYER_BODY_TYPE_25       1\n",
       "Name: Body Type, dtype: int64"
      ]
     },
     "execution_count": 35,
     "metadata": {},
     "output_type": "execute_result"
    }
   ],
   "source": [
    "footballers[\"Body Type\"].value_counts()"
   ]
  },
  {
   "cell_type": "code",
   "execution_count": 36,
   "metadata": {},
   "outputs": [],
   "source": [
    "def body_type(body):\n",
    "    if body in [\"Normal\",\"C. Ronaldo\",\"Messi\",\"Shaqiri\"]:\n",
    "        bt = 2\n",
    "    elif body in [\"Lean\",\"Neymar\"]:\n",
    "        bt = 1\n",
    "    else:\n",
    "        bt = 0\n",
    "    return bt"
   ]
  },
  {
   "cell_type": "code",
   "execution_count": 37,
   "metadata": {},
   "outputs": [],
   "source": [
    "footballers.drop(footballers[footballers[\"Body Type\"]==\"PLAYER_BODY_TYPE_25\"].index, inplace=True)\n",
    "# I delete row so I reset the index\n",
    "footballers.set_index(\"Value(mln €)\", inplace=True)\n",
    "footballers.reset_index(inplace=True)"
   ]
  },
  {
   "cell_type": "code",
   "execution_count": 38,
   "metadata": {},
   "outputs": [],
   "source": [
    "body_types = []\n",
    "for i in range(len(footballers)):\n",
    "    body_types.append(body_type(footballers[\"Body Type\"][i]))  "
   ]
  },
  {
   "cell_type": "code",
   "execution_count": 39,
   "metadata": {},
   "outputs": [],
   "source": [
    "footballers.drop('Body Type', axis=1, inplace=True)\n",
    "footballers.insert(9, \"Body Type\", body_types, True) "
   ]
  },
  {
   "cell_type": "code",
   "execution_count": 40,
   "metadata": {},
   "outputs": [
    {
     "data": {
      "text/plain": [
       "2    9013\n",
       "1    5911\n",
       "0    1041\n",
       "Name: Body Type, dtype: int64"
      ]
     },
     "execution_count": 40,
     "metadata": {},
     "output_type": "execute_result"
    }
   ],
   "source": [
    "footballers['Body Type'].value_counts()"
   ]
  },
  {
   "cell_type": "markdown",
   "metadata": {},
   "source": [
    "<p><b>The 'Position' column has as many as 26 unique values. To simplify the classification, I divided them into only 3 main groups:</b></p> \n",
    "</br><p>FORWARD (ST, CAM, LW, RW, CF, RF, LF) = 1</p>\n",
    "</br><p>MIDFIELDER (CM, RM, LM, CDM, LCM, RCM, RDM, LDM, LS, RS, RWB, LWB, RAM, LAM) = 2</p>\n",
    "</br><p>DEFFENDER (CB, LB, RB, RCB, LCB) = 0</p>"
   ]
  },
  {
   "cell_type": "code",
   "execution_count": 41,
   "metadata": {},
   "outputs": [],
   "source": [
    "def field_position(pos):\n",
    "    if pos in ['CB', 'LB', 'RB', 'RCB', 'LCB']:\n",
    "        fp = 0\n",
    "    elif pos in ['ST', 'CAM', 'LW', 'RW', 'CF', 'RF', 'LF']:\n",
    "        fp = 1\n",
    "    else:\n",
    "        fp = 2\n",
    "    return fp"
   ]
  },
  {
   "cell_type": "code",
   "execution_count": 42,
   "metadata": {},
   "outputs": [],
   "source": [
    "positions = []\n",
    "for i in range(len(footballers)):\n",
    "    positions.append(field_position(footballers[\"Position\"][i])) "
   ]
  },
  {
   "cell_type": "code",
   "execution_count": 43,
   "metadata": {},
   "outputs": [],
   "source": [
    "footballers.drop('Position', axis=1, inplace=True)\n",
    "footballers.insert(10, \"Position\", positions, True)"
   ]
  },
  {
   "cell_type": "code",
   "execution_count": 44,
   "metadata": {},
   "outputs": [
    {
     "data": {
      "text/plain": [
       "0     5'7\n",
       "1     6'2\n",
       "2     5'9\n",
       "3    5'11\n",
       "4     5'8\n",
       "Name: Height, dtype: object"
      ]
     },
     "execution_count": 44,
     "metadata": {},
     "output_type": "execute_result"
    }
   ],
   "source": [
    "footballers['Height'].head()"
   ]
  },
  {
   "cell_type": "markdown",
   "metadata": {},
   "source": [
    "<b>The last 2 columns of the text type are 'Height' and 'Weight'. I convert them to a numeric type and replace the unit. Height from feets to metres. Weight from lbs to kilograms.</b>"
   ]
  },
  {
   "cell_type": "code",
   "execution_count": 45,
   "metadata": {},
   "outputs": [],
   "source": [
    "# I delete the NaN values and reset the index\n",
    "footballers.drop(footballers[footballers[\"Height\"].isna()].index, inplace=True)\n",
    "footballers.drop(footballers[footballers[\"Weight\"].isna()].index, inplace=True)\n",
    "footballers.set_index(\"Value(mln €)\", inplace=True)\n",
    "footballers.reset_index(inplace=True)"
   ]
  },
  {
   "cell_type": "code",
   "execution_count": 46,
   "metadata": {},
   "outputs": [],
   "source": [
    "def height_change(height):\n",
    "    height_changed = float(height.replace(\"'\",\".\"))\n",
    "    height_in_cm = round(height_changed * 30.48 , 2)\n",
    "    return height_in_cm\n",
    "\n",
    "def weight_change(weight):\n",
    "    weight_changed = float(weight[:-3])\n",
    "    weight_in_kg = round(weight_changed * 0.45 , 2)\n",
    "    return weight_in_kg"
   ]
  },
  {
   "cell_type": "code",
   "execution_count": 47,
   "metadata": {},
   "outputs": [],
   "source": [
    "heights = []\n",
    "weights = []\n",
    "for i in range(len(footballers)):\n",
    "    heights.append(height_change(footballers[\"Height\"][i]))\n",
    "    weights.append(weight_change(footballers[\"Weight\"][i]))"
   ]
  },
  {
   "cell_type": "code",
   "execution_count": 48,
   "metadata": {},
   "outputs": [],
   "source": [
    "footballers.drop(['Height','Weight'], axis=1, inplace=True)\n",
    "footballers.insert(11, \"Height(cm)\", heights, True)\n",
    "footballers.insert(12, \"Weight(kg)\", weights, True)"
   ]
  },
  {
   "cell_type": "markdown",
   "metadata": {},
   "source": [
    "<b>Now all data is in numerical form. I can visualize them in search of various dependencies.</b>"
   ]
  },
  {
   "cell_type": "code",
   "execution_count": 49,
   "metadata": {
    "scrolled": true
   },
   "outputs": [
    {
     "name": "stdout",
     "output_type": "stream",
     "text": [
      "<class 'pandas.core.frame.DataFrame'>\n",
      "RangeIndex: 15917 entries, 0 to 15916\n",
      "Data columns (total 45 columns):\n",
      "Value(mln €)                15917 non-null float64\n",
      "Wage(thous €)               15917 non-null float64\n",
      "Age                         15917 non-null int64\n",
      "Overall                     15917 non-null int64\n",
      "Potential                   15917 non-null int64\n",
      "Preferred Foot Right        15917 non-null int64\n",
      "Special                     15917 non-null int64\n",
      "Work Rate Attack            15917 non-null int64\n",
      "Work Rate Deffense          15917 non-null int64\n",
      "Body Type                   15917 non-null int64\n",
      "Position                    15917 non-null int64\n",
      "Height(cm)                  15917 non-null float64\n",
      "Weight(kg)                  15917 non-null float64\n",
      "International Reputation    15917 non-null float64\n",
      "Weak Foot                   15917 non-null float64\n",
      "Skill Moves                 15917 non-null float64\n",
      "Crossing                    15917 non-null float64\n",
      "Finishing                   15917 non-null float64\n",
      "HeadingAccuracy             15917 non-null float64\n",
      "ShortPassing                15917 non-null float64\n",
      "Volleys                     15917 non-null float64\n",
      "Dribbling                   15917 non-null float64\n",
      "Curve                       15917 non-null float64\n",
      "FKAccuracy                  15917 non-null float64\n",
      "LongPassing                 15917 non-null float64\n",
      "BallControl                 15917 non-null float64\n",
      "Acceleration                15917 non-null float64\n",
      "SprintSpeed                 15917 non-null float64\n",
      "Agility                     15917 non-null float64\n",
      "Reactions                   15917 non-null float64\n",
      "Balance                     15917 non-null float64\n",
      "ShotPower                   15917 non-null float64\n",
      "Jumping                     15917 non-null float64\n",
      "Stamina                     15917 non-null float64\n",
      "Strength                    15917 non-null float64\n",
      "LongShots                   15917 non-null float64\n",
      "Aggression                  15917 non-null float64\n",
      "Interceptions               15917 non-null float64\n",
      "Positioning                 15917 non-null float64\n",
      "Vision                      15917 non-null float64\n",
      "Penalties                   15917 non-null float64\n",
      "Composure                   15917 non-null float64\n",
      "Marking                     15917 non-null float64\n",
      "StandingTackle              15917 non-null float64\n",
      "SlidingTackle               15917 non-null float64\n",
      "dtypes: float64(36), int64(9)\n",
      "memory usage: 5.5 MB\n"
     ]
    }
   ],
   "source": [
    "footballers.info()"
   ]
  },
  {
   "cell_type": "markdown",
   "metadata": {},
   "source": [
    "<h1>Some data visualization</h1>"
   ]
  },
  {
   "cell_type": "markdown",
   "metadata": {},
   "source": [
    "<p><b>Search for correlation between attributes and player value.</b></p></br><p> As you can see below, the attributes 'Wage', 'International Reputation', 'Overall', 'Potential' and 'Reactions' are most strongly correlated positively with the player's value. Although it might seem that the player's age or position are significant factors in assessing his value, the data show a weak correlation (only 8.4% and 6.1%, respectively).</p>"
   ]
  },
  {
   "cell_type": "code",
   "execution_count": 50,
   "metadata": {},
   "outputs": [],
   "source": [
    "corr_matrix = footballers.corr()"
   ]
  },
  {
   "cell_type": "code",
   "execution_count": 51,
   "metadata": {
    "scrolled": true
   },
   "outputs": [
    {
     "data": {
      "text/plain": [
       "Value(mln €)                1.000000\n",
       "Wage(thous €)               0.856731\n",
       "International Reputation    0.660024\n",
       "Overall                     0.639862\n",
       "Potential                   0.581169\n",
       "Reactions                   0.556378\n",
       "Composure                   0.501104\n",
       "Special                     0.496975\n",
       "BallControl                 0.483250\n",
       "ShortPassing                0.463638\n",
       "Dribbling                   0.383593\n",
       "Skill Moves                 0.383228\n",
       "Vision                      0.381342\n",
       "LongPassing                 0.356552\n",
       "ShotPower                   0.352533\n",
       "Curve                       0.340897\n",
       "Volleys                     0.338206\n",
       "LongShots                   0.332605\n",
       "Positioning                 0.325545\n",
       "Crossing                    0.307865\n",
       "FKAccuracy                  0.302975\n",
       "Finishing                   0.295261\n",
       "Penalties                   0.281363\n",
       "Stamina                     0.259595\n",
       "HeadingAccuracy             0.240299\n",
       "Aggression                  0.198842\n",
       "Agility                     0.196638\n",
       "SprintSpeed                 0.173752\n",
       "Acceleration                0.172418\n",
       "Weak Foot                   0.166896\n",
       "Work Rate Attack            0.153040\n",
       "Interceptions               0.135469\n",
       "Marking                     0.132010\n",
       "Strength                    0.120037\n",
       "Balance                     0.106365\n",
       "Jumping                     0.104067\n",
       "StandingTackle              0.100821\n",
       "Age                         0.084413\n",
       "SlidingTackle               0.075662\n",
       "Weight(kg)                  0.064230\n",
       "Position                    0.061221\n",
       "Work Rate Deffense          0.054620\n",
       "Height(cm)                  0.025036\n",
       "Preferred Foot Right       -0.005714\n",
       "Body Type                  -0.007138\n",
       "Name: Value(mln €), dtype: float64"
      ]
     },
     "execution_count": 51,
     "metadata": {},
     "output_type": "execute_result"
    }
   ],
   "source": [
    "corr_matrix['Value(mln €)'].sort_values(ascending=False)"
   ]
  },
  {
   "cell_type": "markdown",
   "metadata": {},
   "source": [
    "<p><b>Charts correlating the player's value with his reputation and development potential.</b></p></br><p>\n",
    "In addition to correlating the player's value with the increase in his potential and reputation, we also see other connections. For example, reputation grows with potential. It is also seen that only a few players belong to the top world, most of them are at an average level (Overall 65-75).</p>"
   ]
  },
  {
   "cell_type": "code",
   "execution_count": 52,
   "metadata": {},
   "outputs": [],
   "source": [
    "attributes = ['Value(mln €)','International Reputation','Potential']"
   ]
  },
  {
   "cell_type": "code",
   "execution_count": 53,
   "metadata": {},
   "outputs": [
    {
     "data": {
      "text/plain": [
       "array([[<matplotlib.axes._subplots.AxesSubplot object at 0x000002559B363048>,\n",
       "        <matplotlib.axes._subplots.AxesSubplot object at 0x000002559BF59240>,\n",
       "        <matplotlib.axes._subplots.AxesSubplot object at 0x000002559BF834A8>],\n",
       "       [<matplotlib.axes._subplots.AxesSubplot object at 0x000002559BFAC438>,\n",
       "        <matplotlib.axes._subplots.AxesSubplot object at 0x000002559B624940>,\n",
       "        <matplotlib.axes._subplots.AxesSubplot object at 0x000002559B64AEB8>],\n",
       "       [<matplotlib.axes._subplots.AxesSubplot object at 0x000002559B679470>,\n",
       "        <matplotlib.axes._subplots.AxesSubplot object at 0x000002559B6A1A20>,\n",
       "        <matplotlib.axes._subplots.AxesSubplot object at 0x000002559B6A1A58>]],\n",
       "      dtype=object)"
      ]
     },
     "execution_count": 53,
     "metadata": {},
     "output_type": "execute_result"
    },
    {
     "data": {
      "image/png": "[encoded data removed]",
      "text/plain": [
       "<Figure size 1152x720 with 9 Axes>"
      ]
     },
     "metadata": {
      "needs_background": "light"
     },
     "output_type": "display_data"
    }
   ],
   "source": [
    "from pandas.plotting import scatter_matrix\n",
    "scatter_matrix(footballers[attributes], figsize=(16, 10))"
   ]
  },
  {
   "cell_type": "code",
   "execution_count": 54,
   "metadata": {},
   "outputs": [
    {
     "data": {
      "text/plain": [
       "<matplotlib.axes._subplots.AxesSubplot at 0x23c35736dd8>"
      ]
     },
     "execution_count": 54,
     "metadata": {},
     "output_type": "execute_result"
    },
    {
     "data": {
      "image/png": "[encoded data removed]",
      "text/plain": [
       "<Figure size 1008x576 with 1 Axes>"
      ]
     },
     "metadata": {
      "needs_background": "light"
     },
     "output_type": "display_data"
    }
   ],
   "source": [
    "footballers.plot(kind=\"scatter\", x=\"Overall\", y=\"Value(mln €)\", alpha=0.3, figsize=(14, 8), title='Value vs Overall')"
   ]
  },
  {
   "cell_type": "code",
   "execution_count": 55,
   "metadata": {},
   "outputs": [
    {
     "data": {
      "text/plain": [
       "<matplotlib.axes._subplots.AxesSubplot at 0x23c35e05470>"
      ]
     },
     "execution_count": 55,
     "metadata": {},
     "output_type": "execute_result"
    },
    {
     "data": {
      "image/png": "[encoded data removed]",
      "text/plain": [
       "<Figure size 720x432 with 1 Axes>"
      ]
     },
     "metadata": {
      "needs_background": "light"
     },
     "output_type": "display_data"
    }
   ],
   "source": [
    "plt.figure(figsize=(10,6))\n",
    "plt.yscale('log')\n",
    "plt.title('Amount of players in terms of international reputation (log scale)')\n",
    "sns.countplot(footballers['International Reputation'], palette=\"Set2\")"
   ]
  },
  {
   "cell_type": "markdown",
   "metadata": {},
   "source": [
    "<p style=\"text-align:center;\"><b>Less important data, but showing interesting information.</b></p>"
   ]
  },
  {
   "cell_type": "markdown",
   "metadata": {},
   "source": [
    "Forwards (1) have a better finish than defenders (0) and midfielders (2)."
   ]
  },
  {
   "cell_type": "code",
   "execution_count": 56,
   "metadata": {},
   "outputs": [
    {
     "data": {
      "text/plain": [
       "<matplotlib.axes._subplots.AxesSubplot at 0x23c362346a0>"
      ]
     },
     "execution_count": 56,
     "metadata": {},
     "output_type": "execute_result"
    },
    {
     "data": {
      "image/png": "[encoded data removed]",
      "text/plain": [
       "<Figure size 720x432 with 1 Axes>"
      ]
     },
     "metadata": {
      "needs_background": "light"
     },
     "output_type": "display_data"
    }
   ],
   "source": [
    "footballers.plot(kind=\"scatter\", x=\"Finishing\", y=\"Position\", alpha=0.3, figsize=(10, 6), title='Position vs Finishing')"
   ]
  },
  {
   "cell_type": "markdown",
   "metadata": {},
   "source": [
    "If higher player, the more accurate head play."
   ]
  },
  {
   "cell_type": "code",
   "execution_count": 57,
   "metadata": {},
   "outputs": [
    {
     "data": {
      "text/plain": [
       "<seaborn.axisgrid.FacetGrid at 0x23c362ea470>"
      ]
     },
     "execution_count": 57,
     "metadata": {},
     "output_type": "execute_result"
    },
    {
     "data": {
      "image/png": "[encoded data removed]",
      "text/plain": [
       "<Figure size 360x360 with 1 Axes>"
      ]
     },
     "metadata": {
      "needs_background": "light"
     },
     "output_type": "display_data"
    }
   ],
   "source": [
    "sns.lmplot(x=\"Height(cm)\", y=\"HeadingAccuracy\", data=footballers)"
   ]
  },
  {
   "cell_type": "markdown",
   "metadata": {},
   "source": [
    "<h1>Data standardization</h1>"
   ]
  },
  {
   "cell_type": "code",
   "execution_count": 54,
   "metadata": {},
   "outputs": [],
   "source": [
    "from sklearn.preprocessing import StandardScaler\n",
    "scaler = StandardScaler()"
   ]
  },
  {
   "cell_type": "markdown",
   "metadata": {},
   "source": [
    "<b>I scale the entire data set except labels.</b>"
   ]
  },
  {
   "cell_type": "code",
   "execution_count": 55,
   "metadata": {},
   "outputs": [
    {
     "name": "stderr",
     "output_type": "stream",
     "text": [
      "C:\\ProgramData\\Anaconda3\\lib\\site-packages\\sklearn\\preprocessing\\data.py:645: DataConversionWarning: Data with input dtype int64, float64 were all converted to float64 by StandardScaler.\n",
      "  return self.partial_fit(X, y)\n"
     ]
    },
    {
     "data": {
      "text/plain": [
       "StandardScaler(copy=True, with_mean=True, with_std=True)"
      ]
     },
     "execution_count": 55,
     "metadata": {},
     "output_type": "execute_result"
    }
   ],
   "source": [
    "scaler.fit(footballers.drop('Value(mln €)',axis=1))"
   ]
  },
  {
   "cell_type": "code",
   "execution_count": 56,
   "metadata": {},
   "outputs": [
    {
     "name": "stderr",
     "output_type": "stream",
     "text": [
      "C:\\ProgramData\\Anaconda3\\lib\\site-packages\\ipykernel_launcher.py:1: DataConversionWarning: Data with input dtype int64, float64 were all converted to float64 by StandardScaler.\n",
      "  \"\"\"Entry point for launching an IPython kernel.\n"
     ]
    }
   ],
   "source": [
    "scaled_features = scaler.transform(footballers.drop('Value(mln €)',axis=1))"
   ]
  },
  {
   "cell_type": "code",
   "execution_count": 57,
   "metadata": {},
   "outputs": [],
   "source": [
    "df_features = pd.DataFrame(data=scaled_features, columns=footballers.columns[1:])\n",
    "df_features.insert(0, \"Value(mln €)\", footballers['Value(mln €)'], True)"
   ]
  },
  {
   "cell_type": "code",
   "execution_count": 58,
   "metadata": {},
   "outputs": [
    {
     "data": {
      "text/html": [
       "<div>\n",
       "<style scoped>\n",
       "    .dataframe tbody tr th:only-of-type {\n",
       "        vertical-align: middle;\n",
       "    }\n",
       "\n",
       "    .dataframe tbody tr th {\n",
       "        vertical-align: top;\n",
       "    }\n",
       "\n",
       "    .dataframe thead th {\n",
       "        text-align: right;\n",
       "    }\n",
       "</style>\n",
       "<table border=\"1\" class=\"dataframe\">\n",
       "  <thead>\n",
       "    <tr style=\"text-align: right;\">\n",
       "      <th></th>\n",
       "      <th>Value(mln €)</th>\n",
       "      <th>Wage(thous €)</th>\n",
       "      <th>Age</th>\n",
       "      <th>Overall</th>\n",
       "      <th>Potential</th>\n",
       "      <th>Preferred Foot Right</th>\n",
       "      <th>Special</th>\n",
       "      <th>Work Rate Attack</th>\n",
       "      <th>Work Rate Deffense</th>\n",
       "      <th>Body Type</th>\n",
       "      <th>...</th>\n",
       "      <th>LongShots</th>\n",
       "      <th>Aggression</th>\n",
       "      <th>Interceptions</th>\n",
       "      <th>Positioning</th>\n",
       "      <th>Vision</th>\n",
       "      <th>Penalties</th>\n",
       "      <th>Composure</th>\n",
       "      <th>Marking</th>\n",
       "      <th>StandingTackle</th>\n",
       "      <th>SlidingTackle</th>\n",
       "    </tr>\n",
       "  </thead>\n",
       "  <tbody>\n",
       "    <tr>\n",
       "      <th>0</th>\n",
       "      <td>110.5</td>\n",
       "      <td>24.530842</td>\n",
       "      <td>1.324826</td>\n",
       "      <td>4.048091</td>\n",
       "      <td>3.696692</td>\n",
       "      <td>-1.739702</td>\n",
       "      <td>2.719488</td>\n",
       "      <td>-0.449586</td>\n",
       "      <td>-0.181985</td>\n",
       "      <td>0.810449</td>\n",
       "      <td>...</td>\n",
       "      <td>2.708212</td>\n",
       "      <td>-0.801935</td>\n",
       "      <td>-1.510505</td>\n",
       "      <td>2.670851</td>\n",
       "      <td>2.986840</td>\n",
       "      <td>1.831046</td>\n",
       "      <td>3.517184</td>\n",
       "      <td>-1.062194</td>\n",
       "      <td>-1.246042</td>\n",
       "      <td>-1.230946</td>\n",
       "    </tr>\n",
       "    <tr>\n",
       "      <th>1</th>\n",
       "      <td>77.0</td>\n",
       "      <td>17.455796</td>\n",
       "      <td>1.765227</td>\n",
       "      <td>4.048091</td>\n",
       "      <td>3.696692</td>\n",
       "      <td>0.574811</td>\n",
       "      <td>2.851710</td>\n",
       "      <td>1.378271</td>\n",
       "      <td>-2.060492</td>\n",
       "      <td>0.810449</td>\n",
       "      <td>...</td>\n",
       "      <td>2.644572</td>\n",
       "      <td>0.237534</td>\n",
       "      <td>-1.138157</td>\n",
       "      <td>2.739067</td>\n",
       "      <td>2.056095</td>\n",
       "      <td>2.631165</td>\n",
       "      <td>3.418550</td>\n",
       "      <td>-1.352905</td>\n",
       "      <td>-1.089501</td>\n",
       "      <td>-1.387481</td>\n",
       "    </tr>\n",
       "    <tr>\n",
       "      <th>2</th>\n",
       "      <td>118.5</td>\n",
       "      <td>12.370607</td>\n",
       "      <td>0.223825</td>\n",
       "      <td>3.754270</td>\n",
       "      <td>3.532228</td>\n",
       "      <td>0.574811</td>\n",
       "      <td>2.419446</td>\n",
       "      <td>1.378271</td>\n",
       "      <td>-0.181985</td>\n",
       "      <td>-0.823072</td>\n",
       "      <td>...</td>\n",
       "      <td>1.944532</td>\n",
       "      <td>-0.247552</td>\n",
       "      <td>-0.765809</td>\n",
       "      <td>2.329772</td>\n",
       "      <td>2.443905</td>\n",
       "      <td>2.311117</td>\n",
       "      <td>3.319916</td>\n",
       "      <td>-1.411047</td>\n",
       "      <td>-1.454763</td>\n",
       "      <td>-0.865699</td>\n",
       "    </tr>\n",
       "    <tr>\n",
       "      <th>3</th>\n",
       "      <td>102.0</td>\n",
       "      <td>15.244844</td>\n",
       "      <td>0.444025</td>\n",
       "      <td>3.607359</td>\n",
       "      <td>3.367763</td>\n",
       "      <td>0.574811</td>\n",
       "      <td>3.121239</td>\n",
       "      <td>1.378271</td>\n",
       "      <td>1.696522</td>\n",
       "      <td>0.810449</td>\n",
       "      <td>...</td>\n",
       "      <td>2.517292</td>\n",
       "      <td>1.138407</td>\n",
       "      <td>0.564004</td>\n",
       "      <td>2.193341</td>\n",
       "      <td>2.986840</td>\n",
       "      <td>2.151093</td>\n",
       "      <td>2.728114</td>\n",
       "      <td>0.972784</td>\n",
       "      <td>0.319366</td>\n",
       "      <td>0.073509</td>\n",
       "    </tr>\n",
       "    <tr>\n",
       "      <th>4</th>\n",
       "      <td>93.0</td>\n",
       "      <td>14.581559</td>\n",
       "      <td>0.444025</td>\n",
       "      <td>3.607359</td>\n",
       "      <td>3.203299</td>\n",
       "      <td>0.574811</td>\n",
       "      <td>2.414361</td>\n",
       "      <td>1.378271</td>\n",
       "      <td>-0.181985</td>\n",
       "      <td>0.810449</td>\n",
       "      <td>...</td>\n",
       "      <td>1.817252</td>\n",
       "      <td>-0.386148</td>\n",
       "      <td>-0.499847</td>\n",
       "      <td>2.193341</td>\n",
       "      <td>2.599029</td>\n",
       "      <td>2.711177</td>\n",
       "      <td>3.024015</td>\n",
       "      <td>-1.004052</td>\n",
       "      <td>-1.298222</td>\n",
       "      <td>-1.439659</td>\n",
       "    </tr>\n",
       "  </tbody>\n",
       "</table>\n",
       "<p>5 rows × 45 columns</p>\n",
       "</div>"
      ],
      "text/plain": [
       "   Value(mln €)  Wage(thous €)       Age   Overall  Potential  \\\n",
       "0         110.5      24.530842  1.324826  4.048091   3.696692   \n",
       "1          77.0      17.455796  1.765227  4.048091   3.696692   \n",
       "2         118.5      12.370607  0.223825  3.754270   3.532228   \n",
       "3         102.0      15.244844  0.444025  3.607359   3.367763   \n",
       "4          93.0      14.581559  0.444025  3.607359   3.203299   \n",
       "\n",
       "   Preferred Foot Right   Special  Work Rate Attack  Work Rate Deffense  \\\n",
       "0             -1.739702  2.719488         -0.449586           -0.181985   \n",
       "1              0.574811  2.851710          1.378271           -2.060492   \n",
       "2              0.574811  2.419446          1.378271           -0.181985   \n",
       "3              0.574811  3.121239          1.378271            1.696522   \n",
       "4              0.574811  2.414361          1.378271           -0.181985   \n",
       "\n",
       "   Body Type  ...  LongShots  Aggression  Interceptions  Positioning  \\\n",
       "0   0.810449  ...   2.708212   -0.801935      -1.510505     2.670851   \n",
       "1   0.810449  ...   2.644572    0.237534      -1.138157     2.739067   \n",
       "2  -0.823072  ...   1.944532   -0.247552      -0.765809     2.329772   \n",
       "3   0.810449  ...   2.517292    1.138407       0.564004     2.193341   \n",
       "4   0.810449  ...   1.817252   -0.386148      -0.499847     2.193341   \n",
       "\n",
       "     Vision  Penalties  Composure   Marking  StandingTackle  SlidingTackle  \n",
       "0  2.986840   1.831046   3.517184 -1.062194       -1.246042      -1.230946  \n",
       "1  2.056095   2.631165   3.418550 -1.352905       -1.089501      -1.387481  \n",
       "2  2.443905   2.311117   3.319916 -1.411047       -1.454763      -0.865699  \n",
       "3  2.986840   2.151093   2.728114  0.972784        0.319366       0.073509  \n",
       "4  2.599029   2.711177   3.024015 -1.004052       -1.298222      -1.439659  \n",
       "\n",
       "[5 rows x 45 columns]"
      ]
     },
     "execution_count": 58,
     "metadata": {},
     "output_type": "execute_result"
    }
   ],
   "source": [
    "df_features.head()"
   ]
  },
  {
   "cell_type": "markdown",
   "metadata": {},
   "source": [
    "<b>I save the prepared data set to a file.</b>"
   ]
  },
  {
   "cell_type": "code",
   "execution_count": 59,
   "metadata": {},
   "outputs": [],
   "source": [
    "pd.DataFrame.to_csv(df_features, \"final_data.csv\")"
   ]
  },
  {
   "cell_type": "markdown",
   "metadata": {},
   "source": [
    "<h3 style=\"text-align:center;\"><b>In the second file I will be testing different regression models and then try to tune the best of them.</b></h3>"
   ]
  }
 ],
 "metadata": {
  "kernelspec": {
   "display_name": "Python 3",
   "language": "python",
   "name": "python3"
  },
  "language_info": {
   "codemirror_mode": {
    "name": "ipython",
    "version": 3
   },
   "file_extension": ".py",
   "mimetype": "text/x-python",
   "name": "python",
   "nbconvert_exporter": "python",
   "pygments_lexer": "ipython3",
   "version": "3.7.3"
  }
 },
 "nbformat": 4,
 "nbformat_minor": 2
}
